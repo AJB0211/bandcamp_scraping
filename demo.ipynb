{
 "cells": [
  {
   "cell_type": "markdown",
   "metadata": {},
   "source": [
    "All files available from [this github repo](https://github.com/AJB0211/bandcamp_scraping)"
   ]
  },
  {
   "cell_type": "code",
   "execution_count": 5,
   "metadata": {},
   "outputs": [],
   "source": [
    "from BandcampSpider import AlbumSpider, ProfileSpider, FrontPageSpider\n",
    "from IPython.display import IFrame\n",
    "import pandas as pd\n",
    "import numpy as np\n",
    "import matplotlib\n",
    "import matplotlib.pyplot as plt\n",
    "import seaborn as sns\n",
    "import re\n",
    "\n",
    "%matplotlib inline"
   ]
  },
  {
   "cell_type": "code",
   "execution_count": 9,
   "metadata": {
    "scrolled": true
   },
   "outputs": [
    {
     "data": {
      "text/html": [
       "\n",
       "        <iframe\n",
       "            width=\"1000\"\n",
       "            height=\"1000\"\n",
       "            src=\"https://we-deserve-this.bandcamp.com/album/tearing\"\n",
       "            frameborder=\"0\"\n",
       "            allowfullscreen\n",
       "        ></iframe>\n",
       "        "
      ],
      "text/plain": [
       "<IPython.lib.display.IFrame at 0x7f8c417ff8d0>"
      ]
     },
     "execution_count": 9,
     "metadata": {},
     "output_type": "execute_result"
    }
   ],
   "source": [
    "tearing_URL = \"https://we-deserve-this.bandcamp.com/album/tearing\"\n",
    "IFrame(src=tearing_URL,width=1000,height=1000)"
   ]
  },
  {
   "cell_type": "markdown",
   "metadata": {},
   "source": [
    "# AlbumSpider\n",
    "\n",
    "This library is composed of 3 main `Spiders` at present time inheriting from a base class. The `AlbumSpider` performs the core functionality of scraping details off an album listing. Relevant quantities can be accessed through various getters."
   ]
  },
  {
   "cell_type": "code",
   "execution_count": 3,
   "metadata": {
    "scrolled": true
   },
   "outputs": [],
   "source": [
    "tearing = AlbumSpider(tearing_URL,logfile=\"./demoResources/out/albumLog.txt\")\n",
    "tearingDetails = tearing.getAlbumDetails()\n",
    "_ = tearing.getReviews()\n",
    "_ = tearing.getSupporters()"
   ]
  },
  {
   "cell_type": "code",
   "execution_count": 4,
   "metadata": {
    "scrolled": true
   },
   "outputs": [
    {
     "name": "stdout",
     "output_type": "stream",
     "text": [
      "albumTitle : Tearing\n",
      "bandName : We Deserve This\n",
      "label : We Deserve This\n",
      "price : $5\n",
      "tags : ['electronic', 'experimental', 'idm', 'metal', 'rock', 'breakbeat', 'dance', 'downtempo', 'electro', 'electronica', 'experimental electronic', 'instrumental', 'post-metal', 'post-rock', 'Germany']\n",
      "songs : [{'track': 1, 'title': 'Zauber', 'duration': 240.0}, {'track': 2, 'title': 'Tearing', 'duration': 221.0}, {'track': 3, 'title': 'Clear', 'duration': 234.0}, {'track': 4, 'title': 'Halo', 'duration': 256.0}]\n",
      "totalDuration : 951.0\n",
      "releaseDate : 20171027\n",
      "reviews : anoNYMous Raven:::::NULL:::::We Deserve This is always dependably awesome. Some of the best shit the already dependable Fluttery Records has to offer. A wide array of genres and talents offers the best of the best in electronic instrumentals, neoclassical music, post-rock, and even a little metal. You will not be disappointed!\n",
      "supporters : https://bandcamp.com/theladyanonymous,https://bandcamp.com/daviddudson,https://bandcamp.com/marzia,https://bandcamp.com/karolineplatek\n"
     ]
    }
   ],
   "source": [
    "for i, j in tearing.getAsDict().items():\n",
    "    print(f'{i} : {j}')"
   ]
  },
  {
   "cell_type": "code",
   "execution_count": 5,
   "metadata": {},
   "outputs": [],
   "source": [
    "del tearing"
   ]
  },
  {
   "cell_type": "markdown",
   "metadata": {},
   "source": [
    "Getters returns copies in most cases meaning they will survive deletion of the class that was used to harvest the information."
   ]
  },
  {
   "cell_type": "code",
   "execution_count": 6,
   "metadata": {
    "scrolled": true
   },
   "outputs": [
    {
     "data": {
      "text/plain": [
       "{'albumTitle': 'Tearing',\n",
       " 'bandName': 'We Deserve This',\n",
       " 'label': 'We Deserve This',\n",
       " 'price': '$5',\n",
       " 'tags': ['electronic',\n",
       "  'experimental',\n",
       "  'idm',\n",
       "  'metal',\n",
       "  'rock',\n",
       "  'breakbeat',\n",
       "  'dance',\n",
       "  'downtempo',\n",
       "  'electro',\n",
       "  'electronica',\n",
       "  'experimental electronic',\n",
       "  'instrumental',\n",
       "  'post-metal',\n",
       "  'post-rock',\n",
       "  'Germany'],\n",
       " 'songs': [{'track': 1, 'title': 'Zauber', 'duration': 240.0},\n",
       "  {'track': 2, 'title': 'Tearing', 'duration': 221.0},\n",
       "  {'track': 3, 'title': 'Clear', 'duration': 234.0},\n",
       "  {'track': 4, 'title': 'Halo', 'duration': 256.0}],\n",
       " 'totalDuration': 951.0,\n",
       " 'releaseDate': '20171027'}"
      ]
     },
     "execution_count": 6,
     "metadata": {},
     "output_type": "execute_result"
    }
   ],
   "source": [
    "tearingDetails"
   ]
  },
  {
   "cell_type": "markdown",
   "metadata": {},
   "source": [
    "Some exception handling is performed to check that the URL is in the [bandcamp.com](https://bandcamp.com/) domain and that the page being pointed at is an album listing."
   ]
  },
  {
   "cell_type": "code",
   "execution_count": 7,
   "metadata": {
    "scrolled": true
   },
   "outputs": [
    {
     "ename": "DomainError",
     "evalue": "Not in the Bandcamp domain",
     "output_type": "error",
     "traceback": [
      "\u001b[0;31m---------------------------------------------------------------------------\u001b[0m",
      "\u001b[0;31mDomainError\u001b[0m                               Traceback (most recent call last)",
      "\u001b[0;32m<ipython-input-7-d59e7e555875>\u001b[0m in \u001b[0;36m<module>\u001b[0;34m\u001b[0m\n\u001b[0;32m----> 1\u001b[0;31m \u001b[0mAlbumSpider\u001b[0m\u001b[0;34m(\u001b[0m\u001b[0;34m\"www.google.com\"\u001b[0m\u001b[0;34m)\u001b[0m\u001b[0;34m\u001b[0m\u001b[0;34m\u001b[0m\u001b[0m\n\u001b[0m",
      "\u001b[0;32m/media/alex/Windows_OS/Users/Alex/Documents/NYCDSA/projects/bandcamp_scraping/BandcampSpider/AlbumSpider.py\u001b[0m in \u001b[0;36m__init__\u001b[0;34m(self, url, driver, verbose, logfile)\u001b[0m\n\u001b[1;32m     25\u001b[0m \u001b[0;32mclass\u001b[0m \u001b[0mAlbumSpider\u001b[0m\u001b[0;34m(\u001b[0m\u001b[0mSpider\u001b[0m\u001b[0;34m)\u001b[0m\u001b[0;34m:\u001b[0m\u001b[0;34m\u001b[0m\u001b[0;34m\u001b[0m\u001b[0m\n\u001b[1;32m     26\u001b[0m     \u001b[0;32mdef\u001b[0m \u001b[0m__init__\u001b[0m\u001b[0;34m(\u001b[0m\u001b[0mself\u001b[0m\u001b[0;34m,\u001b[0m \u001b[0murl\u001b[0m\u001b[0;34m,\u001b[0m \u001b[0mdriver\u001b[0m\u001b[0;34m=\u001b[0m\u001b[0;34m\"Chrome\"\u001b[0m\u001b[0;34m,\u001b[0m \u001b[0mverbose\u001b[0m\u001b[0;34m=\u001b[0m\u001b[0;32mFalse\u001b[0m\u001b[0;34m,\u001b[0m \u001b[0mlogfile\u001b[0m\u001b[0;34m=\u001b[0m\u001b[0;34m\"./albumLog.txt\"\u001b[0m\u001b[0;34m)\u001b[0m\u001b[0;34m:\u001b[0m\u001b[0;34m\u001b[0m\u001b[0;34m\u001b[0m\u001b[0m\n\u001b[0;32m---> 27\u001b[0;31m         \u001b[0mSpider\u001b[0m\u001b[0;34m.\u001b[0m\u001b[0m__init__\u001b[0m\u001b[0;34m(\u001b[0m\u001b[0mself\u001b[0m\u001b[0;34m,\u001b[0m\u001b[0murl\u001b[0m\u001b[0;34m=\u001b[0m\u001b[0murl\u001b[0m\u001b[0;34m,\u001b[0m\u001b[0mdriver_\u001b[0m\u001b[0;34m=\u001b[0m\u001b[0mdriver\u001b[0m\u001b[0;34m,\u001b[0m\u001b[0mverbose\u001b[0m\u001b[0;34m=\u001b[0m\u001b[0mverbose\u001b[0m\u001b[0;34m,\u001b[0m\u001b[0mlogfile\u001b[0m\u001b[0;34m=\u001b[0m\u001b[0mlogfile\u001b[0m\u001b[0;34m)\u001b[0m\u001b[0;34m\u001b[0m\u001b[0;34m\u001b[0m\u001b[0m\n\u001b[0m\u001b[1;32m     28\u001b[0m         \u001b[0;32mtry\u001b[0m\u001b[0;34m:\u001b[0m\u001b[0;34m\u001b[0m\u001b[0;34m\u001b[0m\u001b[0m\n\u001b[1;32m     29\u001b[0m             \u001b[0mself\u001b[0m\u001b[0;34m.\u001b[0m\u001b[0m_driver\u001b[0m\u001b[0;34m.\u001b[0m\u001b[0mfind_element_by_xpath\u001b[0m\u001b[0;34m(\u001b[0m\u001b[0;34m'//h2[@class=\"trackTitle\"][@itemprop=\"name\"]'\u001b[0m\u001b[0;34m)\u001b[0m\u001b[0;34m\u001b[0m\u001b[0;34m\u001b[0m\u001b[0m\n",
      "\u001b[0;32m/media/alex/Windows_OS/Users/Alex/Documents/NYCDSA/projects/bandcamp_scraping/BandcampSpider/SpiderClass.py\u001b[0m in \u001b[0;36m__init__\u001b[0;34m(self, url, driver_, verbose, logfile)\u001b[0m\n\u001b[1;32m      7\u001b[0m     \u001b[0;32mdef\u001b[0m \u001b[0m__init__\u001b[0m\u001b[0;34m(\u001b[0m\u001b[0mself\u001b[0m\u001b[0;34m,\u001b[0m\u001b[0murl\u001b[0m\u001b[0;34m,\u001b[0m\u001b[0mdriver_\u001b[0m\u001b[0;34m=\u001b[0m\u001b[0;34m\"Chrome\"\u001b[0m\u001b[0;34m,\u001b[0m\u001b[0mverbose\u001b[0m\u001b[0;34m=\u001b[0m\u001b[0;32mFalse\u001b[0m\u001b[0;34m,\u001b[0m\u001b[0mlogfile\u001b[0m\u001b[0;34m=\u001b[0m\u001b[0;34m\"./log.txt\"\u001b[0m\u001b[0;34m)\u001b[0m\u001b[0;34m:\u001b[0m\u001b[0;34m\u001b[0m\u001b[0;34m\u001b[0m\u001b[0m\n\u001b[1;32m      8\u001b[0m         \u001b[0;32mif\u001b[0m \u001b[0mre\u001b[0m\u001b[0;34m.\u001b[0m\u001b[0msearch\u001b[0m\u001b[0;34m(\u001b[0m\u001b[0;34m\"bandcamp\"\u001b[0m\u001b[0;34m,\u001b[0m\u001b[0murl\u001b[0m\u001b[0;34m)\u001b[0m \u001b[0;34m==\u001b[0m \u001b[0;32mNone\u001b[0m\u001b[0;34m:\u001b[0m\u001b[0;34m\u001b[0m\u001b[0;34m\u001b[0m\u001b[0m\n\u001b[0;32m----> 9\u001b[0;31m             \u001b[0;32mraise\u001b[0m \u001b[0mDomainError\u001b[0m\u001b[0;34m(\u001b[0m\u001b[0;34m\"Not in the Bandcamp domain\"\u001b[0m\u001b[0;34m)\u001b[0m\u001b[0;34m\u001b[0m\u001b[0;34m\u001b[0m\u001b[0m\n\u001b[0m\u001b[1;32m     10\u001b[0m         \u001b[0;32mif\u001b[0m \u001b[0mdriver_\u001b[0m \u001b[0;34m==\u001b[0m \u001b[0;34m\"Chrome\"\u001b[0m\u001b[0;34m:\u001b[0m\u001b[0;34m\u001b[0m\u001b[0;34m\u001b[0m\u001b[0m\n\u001b[1;32m     11\u001b[0m             \u001b[0mself\u001b[0m\u001b[0;34m.\u001b[0m\u001b[0m_driver\u001b[0m \u001b[0;34m=\u001b[0m \u001b[0mwebdriver\u001b[0m\u001b[0;34m.\u001b[0m\u001b[0mChrome\u001b[0m\u001b[0;34m(\u001b[0m\u001b[0;34m\"./chromedriver\"\u001b[0m\u001b[0;34m)\u001b[0m\u001b[0;34m\u001b[0m\u001b[0;34m\u001b[0m\u001b[0m\n",
      "\u001b[0;31mDomainError\u001b[0m: Not in the Bandcamp domain"
     ]
    }
   ],
   "source": [
    "AlbumSpider(\"www.google.com\")"
   ]
  },
  {
   "cell_type": "code",
   "execution_count": 8,
   "metadata": {
    "scrolled": true
   },
   "outputs": [
    {
     "ename": "WebDriverException",
     "evalue": "Message: unknown error: unhandled inspector error: {\"code\":-32000,\"message\":\"Cannot navigate to invalid URL\"}\n  (Session info: chrome=74.0.3729.131)\n  (Driver info: chromedriver=74.0.3729.6 (255758eccf3d244491b8a1317aa76e1ce10d57e9-refs/branch-heads/3729@{#29}),platform=Linux 5.0.10-050010-generic x86_64)\n",
     "output_type": "error",
     "traceback": [
      "\u001b[0;31m---------------------------------------------------------------------------\u001b[0m",
      "\u001b[0;31mWebDriverException\u001b[0m                        Traceback (most recent call last)",
      "\u001b[0;32m<ipython-input-8-441fdaad1620>\u001b[0m in \u001b[0;36m<module>\u001b[0;34m\u001b[0m\n\u001b[0;32m----> 1\u001b[0;31m \u001b[0mAlbumSpider\u001b[0m\u001b[0;34m(\u001b[0m\u001b[0;34m\"www.bandcamp.com\"\u001b[0m\u001b[0;34m)\u001b[0m\u001b[0;34m\u001b[0m\u001b[0;34m\u001b[0m\u001b[0m\n\u001b[0m",
      "\u001b[0;32m/media/alex/Windows_OS/Users/Alex/Documents/NYCDSA/projects/bandcamp_scraping/BandcampSpider/AlbumSpider.py\u001b[0m in \u001b[0;36m__init__\u001b[0;34m(self, url, driver, verbose, logfile)\u001b[0m\n\u001b[1;32m     25\u001b[0m \u001b[0;32mclass\u001b[0m \u001b[0mAlbumSpider\u001b[0m\u001b[0;34m(\u001b[0m\u001b[0mSpider\u001b[0m\u001b[0;34m)\u001b[0m\u001b[0;34m:\u001b[0m\u001b[0;34m\u001b[0m\u001b[0;34m\u001b[0m\u001b[0m\n\u001b[1;32m     26\u001b[0m     \u001b[0;32mdef\u001b[0m \u001b[0m__init__\u001b[0m\u001b[0;34m(\u001b[0m\u001b[0mself\u001b[0m\u001b[0;34m,\u001b[0m \u001b[0murl\u001b[0m\u001b[0;34m,\u001b[0m \u001b[0mdriver\u001b[0m\u001b[0;34m=\u001b[0m\u001b[0;34m\"Chrome\"\u001b[0m\u001b[0;34m,\u001b[0m \u001b[0mverbose\u001b[0m\u001b[0;34m=\u001b[0m\u001b[0;32mFalse\u001b[0m\u001b[0;34m,\u001b[0m \u001b[0mlogfile\u001b[0m\u001b[0;34m=\u001b[0m\u001b[0;34m\"./albumLog.txt\"\u001b[0m\u001b[0;34m)\u001b[0m\u001b[0;34m:\u001b[0m\u001b[0;34m\u001b[0m\u001b[0;34m\u001b[0m\u001b[0m\n\u001b[0;32m---> 27\u001b[0;31m         \u001b[0mSpider\u001b[0m\u001b[0;34m.\u001b[0m\u001b[0m__init__\u001b[0m\u001b[0;34m(\u001b[0m\u001b[0mself\u001b[0m\u001b[0;34m,\u001b[0m\u001b[0murl\u001b[0m\u001b[0;34m=\u001b[0m\u001b[0murl\u001b[0m\u001b[0;34m,\u001b[0m\u001b[0mdriver_\u001b[0m\u001b[0;34m=\u001b[0m\u001b[0mdriver\u001b[0m\u001b[0;34m,\u001b[0m\u001b[0mverbose\u001b[0m\u001b[0;34m=\u001b[0m\u001b[0mverbose\u001b[0m\u001b[0;34m,\u001b[0m\u001b[0mlogfile\u001b[0m\u001b[0;34m=\u001b[0m\u001b[0mlogfile\u001b[0m\u001b[0;34m)\u001b[0m\u001b[0;34m\u001b[0m\u001b[0;34m\u001b[0m\u001b[0m\n\u001b[0m\u001b[1;32m     28\u001b[0m         \u001b[0;32mtry\u001b[0m\u001b[0;34m:\u001b[0m\u001b[0;34m\u001b[0m\u001b[0;34m\u001b[0m\u001b[0m\n\u001b[1;32m     29\u001b[0m             \u001b[0mself\u001b[0m\u001b[0;34m.\u001b[0m\u001b[0m_driver\u001b[0m\u001b[0;34m.\u001b[0m\u001b[0mfind_element_by_xpath\u001b[0m\u001b[0;34m(\u001b[0m\u001b[0;34m'//h2[@class=\"trackTitle\"][@itemprop=\"name\"]'\u001b[0m\u001b[0;34m)\u001b[0m\u001b[0;34m\u001b[0m\u001b[0;34m\u001b[0m\u001b[0m\n",
      "\u001b[0;32m/media/alex/Windows_OS/Users/Alex/Documents/NYCDSA/projects/bandcamp_scraping/BandcampSpider/SpiderClass.py\u001b[0m in \u001b[0;36m__init__\u001b[0;34m(self, url, driver_, verbose, logfile)\u001b[0m\n\u001b[1;32m     11\u001b[0m             \u001b[0mself\u001b[0m\u001b[0;34m.\u001b[0m\u001b[0m_driver\u001b[0m \u001b[0;34m=\u001b[0m \u001b[0mwebdriver\u001b[0m\u001b[0;34m.\u001b[0m\u001b[0mChrome\u001b[0m\u001b[0;34m(\u001b[0m\u001b[0;34m\"./chromedriver\"\u001b[0m\u001b[0;34m)\u001b[0m\u001b[0;34m\u001b[0m\u001b[0;34m\u001b[0m\u001b[0m\n\u001b[1;32m     12\u001b[0m         \u001b[0mself\u001b[0m\u001b[0;34m.\u001b[0m\u001b[0m_url\u001b[0m \u001b[0;34m=\u001b[0m \u001b[0murl\u001b[0m\u001b[0;34m\u001b[0m\u001b[0;34m\u001b[0m\u001b[0m\n\u001b[0;32m---> 13\u001b[0;31m         \u001b[0mself\u001b[0m\u001b[0;34m.\u001b[0m\u001b[0m_driver\u001b[0m\u001b[0;34m.\u001b[0m\u001b[0mget\u001b[0m\u001b[0;34m(\u001b[0m\u001b[0mself\u001b[0m\u001b[0;34m.\u001b[0m\u001b[0m_url\u001b[0m\u001b[0;34m)\u001b[0m\u001b[0;34m\u001b[0m\u001b[0;34m\u001b[0m\u001b[0m\n\u001b[0m\u001b[1;32m     14\u001b[0m         \u001b[0mself\u001b[0m\u001b[0;34m.\u001b[0m\u001b[0m_logFile\u001b[0m \u001b[0;34m=\u001b[0m \u001b[0mopen\u001b[0m\u001b[0;34m(\u001b[0m\u001b[0mlogfile\u001b[0m\u001b[0;34m,\u001b[0m\u001b[0;34m\"w+\"\u001b[0m\u001b[0;34m)\u001b[0m\u001b[0;34m\u001b[0m\u001b[0;34m\u001b[0m\u001b[0m\n\u001b[1;32m     15\u001b[0m \u001b[0;34m\u001b[0m\u001b[0m\n",
      "\u001b[0;32m~/anaconda3/envs/nycdsa/lib/python3.7/site-packages/selenium/webdriver/remote/webdriver.py\u001b[0m in \u001b[0;36mget\u001b[0;34m(self, url)\u001b[0m\n\u001b[1;32m    331\u001b[0m         \u001b[0mLoads\u001b[0m \u001b[0ma\u001b[0m \u001b[0mweb\u001b[0m \u001b[0mpage\u001b[0m \u001b[0;32min\u001b[0m \u001b[0mthe\u001b[0m \u001b[0mcurrent\u001b[0m \u001b[0mbrowser\u001b[0m \u001b[0msession\u001b[0m\u001b[0;34m.\u001b[0m\u001b[0;34m\u001b[0m\u001b[0;34m\u001b[0m\u001b[0m\n\u001b[1;32m    332\u001b[0m         \"\"\"\n\u001b[0;32m--> 333\u001b[0;31m         \u001b[0mself\u001b[0m\u001b[0;34m.\u001b[0m\u001b[0mexecute\u001b[0m\u001b[0;34m(\u001b[0m\u001b[0mCommand\u001b[0m\u001b[0;34m.\u001b[0m\u001b[0mGET\u001b[0m\u001b[0;34m,\u001b[0m \u001b[0;34m{\u001b[0m\u001b[0;34m'url'\u001b[0m\u001b[0;34m:\u001b[0m \u001b[0murl\u001b[0m\u001b[0;34m}\u001b[0m\u001b[0;34m)\u001b[0m\u001b[0;34m\u001b[0m\u001b[0;34m\u001b[0m\u001b[0m\n\u001b[0m\u001b[1;32m    334\u001b[0m \u001b[0;34m\u001b[0m\u001b[0m\n\u001b[1;32m    335\u001b[0m     \u001b[0;34m@\u001b[0m\u001b[0mproperty\u001b[0m\u001b[0;34m\u001b[0m\u001b[0;34m\u001b[0m\u001b[0m\n",
      "\u001b[0;32m~/anaconda3/envs/nycdsa/lib/python3.7/site-packages/selenium/webdriver/remote/webdriver.py\u001b[0m in \u001b[0;36mexecute\u001b[0;34m(self, driver_command, params)\u001b[0m\n\u001b[1;32m    319\u001b[0m         \u001b[0mresponse\u001b[0m \u001b[0;34m=\u001b[0m \u001b[0mself\u001b[0m\u001b[0;34m.\u001b[0m\u001b[0mcommand_executor\u001b[0m\u001b[0;34m.\u001b[0m\u001b[0mexecute\u001b[0m\u001b[0;34m(\u001b[0m\u001b[0mdriver_command\u001b[0m\u001b[0;34m,\u001b[0m \u001b[0mparams\u001b[0m\u001b[0;34m)\u001b[0m\u001b[0;34m\u001b[0m\u001b[0;34m\u001b[0m\u001b[0m\n\u001b[1;32m    320\u001b[0m         \u001b[0;32mif\u001b[0m \u001b[0mresponse\u001b[0m\u001b[0;34m:\u001b[0m\u001b[0;34m\u001b[0m\u001b[0;34m\u001b[0m\u001b[0m\n\u001b[0;32m--> 321\u001b[0;31m             \u001b[0mself\u001b[0m\u001b[0;34m.\u001b[0m\u001b[0merror_handler\u001b[0m\u001b[0;34m.\u001b[0m\u001b[0mcheck_response\u001b[0m\u001b[0;34m(\u001b[0m\u001b[0mresponse\u001b[0m\u001b[0;34m)\u001b[0m\u001b[0;34m\u001b[0m\u001b[0;34m\u001b[0m\u001b[0m\n\u001b[0m\u001b[1;32m    322\u001b[0m             response['value'] = self._unwrap_value(\n\u001b[1;32m    323\u001b[0m                 response.get('value', None))\n",
      "\u001b[0;32m~/anaconda3/envs/nycdsa/lib/python3.7/site-packages/selenium/webdriver/remote/errorhandler.py\u001b[0m in \u001b[0;36mcheck_response\u001b[0;34m(self, response)\u001b[0m\n\u001b[1;32m    240\u001b[0m                 \u001b[0malert_text\u001b[0m \u001b[0;34m=\u001b[0m \u001b[0mvalue\u001b[0m\u001b[0;34m[\u001b[0m\u001b[0;34m'alert'\u001b[0m\u001b[0;34m]\u001b[0m\u001b[0;34m.\u001b[0m\u001b[0mget\u001b[0m\u001b[0;34m(\u001b[0m\u001b[0;34m'text'\u001b[0m\u001b[0;34m)\u001b[0m\u001b[0;34m\u001b[0m\u001b[0;34m\u001b[0m\u001b[0m\n\u001b[1;32m    241\u001b[0m             \u001b[0;32mraise\u001b[0m \u001b[0mexception_class\u001b[0m\u001b[0;34m(\u001b[0m\u001b[0mmessage\u001b[0m\u001b[0;34m,\u001b[0m \u001b[0mscreen\u001b[0m\u001b[0;34m,\u001b[0m \u001b[0mstacktrace\u001b[0m\u001b[0;34m,\u001b[0m \u001b[0malert_text\u001b[0m\u001b[0;34m)\u001b[0m\u001b[0;34m\u001b[0m\u001b[0;34m\u001b[0m\u001b[0m\n\u001b[0;32m--> 242\u001b[0;31m         \u001b[0;32mraise\u001b[0m \u001b[0mexception_class\u001b[0m\u001b[0;34m(\u001b[0m\u001b[0mmessage\u001b[0m\u001b[0;34m,\u001b[0m \u001b[0mscreen\u001b[0m\u001b[0;34m,\u001b[0m \u001b[0mstacktrace\u001b[0m\u001b[0;34m)\u001b[0m\u001b[0;34m\u001b[0m\u001b[0;34m\u001b[0m\u001b[0m\n\u001b[0m\u001b[1;32m    243\u001b[0m \u001b[0;34m\u001b[0m\u001b[0m\n\u001b[1;32m    244\u001b[0m     \u001b[0;32mdef\u001b[0m \u001b[0m_value_or_default\u001b[0m\u001b[0;34m(\u001b[0m\u001b[0mself\u001b[0m\u001b[0;34m,\u001b[0m \u001b[0mobj\u001b[0m\u001b[0;34m,\u001b[0m \u001b[0mkey\u001b[0m\u001b[0;34m,\u001b[0m \u001b[0mdefault\u001b[0m\u001b[0;34m)\u001b[0m\u001b[0;34m:\u001b[0m\u001b[0;34m\u001b[0m\u001b[0;34m\u001b[0m\u001b[0m\n",
      "\u001b[0;31mWebDriverException\u001b[0m: Message: unknown error: unhandled inspector error: {\"code\":-32000,\"message\":\"Cannot navigate to invalid URL\"}\n  (Session info: chrome=74.0.3729.131)\n  (Driver info: chromedriver=74.0.3729.6 (255758eccf3d244491b8a1317aa76e1ce10d57e9-refs/branch-heads/3729@{#29}),platform=Linux 5.0.10-050010-generic x86_64)\n"
     ]
    }
   ],
   "source": [
    "AlbumSpider(\"www.bandcamp.com\")"
   ]
  },
  {
   "cell_type": "markdown",
   "metadata": {},
   "source": [
    "# FrontPageSpider\n",
    "\n",
    "This `Spider` uses the front page as a point of access to locate albums to be fed into `AlbumSpiders`. The target of this is a \"discovery\" box on the front page of the website."
   ]
  },
  {
   "cell_type": "code",
   "execution_count": 10,
   "metadata": {
    "scrolled": true
   },
   "outputs": [
    {
     "data": {
      "text/html": [
       "\n",
       "        <iframe\n",
       "            width=\"1000\"\n",
       "            height=\"1000\"\n",
       "            src=\"https://bandcamp.com/?g=rock&s=top&p=0&gn=0&f=all&w=0\"\n",
       "            frameborder=\"0\"\n",
       "            allowfullscreen\n",
       "        ></iframe>\n",
       "        "
      ],
      "text/plain": [
       "<IPython.lib.display.IFrame at 0x7f8c417ffb38>"
      ]
     },
     "execution_count": 10,
     "metadata": {},
     "output_type": "execute_result"
    }
   ],
   "source": [
    "IFrame(src=\"https://bandcamp.com/?g=rock&s=top&p=0&gn=0&f=all&w=0\",width=1000,height=1000)"
   ]
  },
  {
   "cell_type": "code",
   "execution_count": 2,
   "metadata": {},
   "outputs": [
    {
     "data": {
      "text/plain": [
       "['top', 'new', 'rec']"
      ]
     },
     "execution_count": 2,
     "metadata": {},
     "output_type": "execute_result"
    }
   ],
   "source": [
    "FrontPageSpider.getCategoryOptions()"
   ]
  },
  {
   "cell_type": "code",
   "execution_count": 3,
   "metadata": {
    "scrolled": true
   },
   "outputs": [
    {
     "data": {
      "text/plain": [
       "['electronic',\n",
       " 'rock',\n",
       " 'metal',\n",
       " 'alternative',\n",
       " 'hip-hop-rap',\n",
       " 'experimental',\n",
       " 'punk',\n",
       " 'folk',\n",
       " 'pop',\n",
       " 'ambient',\n",
       " 'soundtrack',\n",
       " 'world',\n",
       " 'jazz',\n",
       " 'acoustic',\n",
       " 'funk',\n",
       " 'r-b-soul',\n",
       " 'devotional',\n",
       " 'classical',\n",
       " 'reggae',\n",
       " 'podcasts',\n",
       " 'country',\n",
       " 'spoken-word',\n",
       " 'comedy',\n",
       " 'blues',\n",
       " 'kids',\n",
       " 'audiobooks',\n",
       " 'latin']"
      ]
     },
     "execution_count": 3,
     "metadata": {},
     "output_type": "execute_result"
    }
   ],
   "source": [
    "FrontPageSpider.getGenreOptions()"
   ]
  },
  {
   "cell_type": "code",
   "execution_count": 4,
   "metadata": {},
   "outputs": [],
   "source": [
    "tempFPS = FrontPageSpider(genres = [\"rock\"],categories=[\"top\"],\n",
    "                                      logfile=\"./demoResources/out/tempFrontLog.txt\")"
   ]
  },
  {
   "cell_type": "code",
   "execution_count": 5,
   "metadata": {
    "scrolled": true
   },
   "outputs": [
    {
     "data": {
      "text/plain": [
       "{'rock': {'top': ['https://chriscohen.bandcamp.com/album/calamity-the-curtains',\n",
       "   'https://wearesnooze.bandcamp.com/album/familiaris',\n",
       "   'https://comeswiththefall.bandcamp.com/album/beyond-the-last-light',\n",
       "   'https://comeswiththefall.bandcamp.com/album/the-reckoning-ep',\n",
       "   'https://chipmunkson16speed.bandcamp.com/album/vol-1',\n",
       "   'https://spotlights.bandcamp.com/album/love-decay',\n",
       "   'https://humdrums.bandcamp.com/album/vol-iii',\n",
       "   'https://priests.bandcamp.com/album/the-seduction-of-kansas',\n",
       "   'https://filthyfriends.bandcamp.com/album/emerald-valley',\n",
       "   'https://pile.bandcamp.com/album/green-and-gray',\n",
       "   'https://introitus.bandcamp.com/album/shadows',\n",
       "   'http://shop.alonasdreamrecords.com/album/what-we-want-is-free',\n",
       "   'https://dacaptaintrips.bandcamp.com/album/rocknroll-summer-camp-vol-1',\n",
       "   'https://davidnance.bandcamp.com/album/catharsis-lottery-live-2018-2019',\n",
       "   'https://pyramidalmusic.bandcamp.com/album/pyramidal',\n",
       "   'https://covetband.bandcamp.com/album/effloresce',\n",
       "   'https://thesurfrajettes.bandcamp.com/album/party-line-toxic-single',\n",
       "   'https://helmsalee.bandcamp.com/album/noctiluca',\n",
       "   'https://riotseasonrecords.bandcamp.com/album/turn-on-tune-in-freak-out',\n",
       "   'https://erichwk.bandcamp.com/album/mother-fucking-earthbound',\n",
       "   'https://bjornriis.bandcamp.com/album/a-storm-is-coming',\n",
       "   'http://music.securityprojectband.com/album/slowburn',\n",
       "   'https://theastounds.bandcamp.com/album/ancient-flying-ghosts',\n",
       "   'https://rollerballrock.bandcamp.com/album/lost-in-space-20th-anniversary-re-release',\n",
       "   'https://thescreamingfly1.bandcamp.com/album/trip-to-venus',\n",
       "   'https://earthtongue.bandcamp.com/album/floating-being-2',\n",
       "   'https://saigonbluerain.bandcamp.com/album/pink-obsession',\n",
       "   'https://faeriering.bandcamp.com/album/the-clearing',\n",
       "   'http://shop.alonasdreamrecords.com/album/wait',\n",
       "   'https://intoorbit.bandcamp.com/album/kinesis',\n",
       "   'https://americanfootball.bandcamp.com/album/american-football-lp3',\n",
       "   'https://macdemarco.bandcamp.com/album/salad-days',\n",
       "   'https://voidstrider.bandcamp.com/album/voidstrider-ep',\n",
       "   'https://sunset-rollercoaster.bandcamp.com/album/vanilla-villa-ep',\n",
       "   'https://mosgenerator.bandcamp.com/album/night-of-the-lords-live-in-manchester-uk-10-4-17',\n",
       "   'https://theminus5.bandcamp.com/album/stroke-manor',\n",
       "   'https://feedy.bandcamp.com/album/feedy',\n",
       "   'https://highpriestchicago.bandcamp.com/album/sanctum-ep',\n",
       "   'https://thefarmeadow.bandcamp.com/album/foreign-land',\n",
       "   'https://wand.bandcamp.com/album/laughing-matter']}}"
      ]
     },
     "execution_count": 5,
     "metadata": {},
     "output_type": "execute_result"
    }
   ],
   "source": [
    "tempFPS.getURLs(pageLimit=5,pageSleepTime=0.05,pageWaitTime=1, reset=True)"
   ]
  },
  {
   "cell_type": "markdown",
   "metadata": {},
   "source": [
    "All `Spider` classes support conversion methods to `pandas` objects. `FrontPageSpider` instances convert to `DataFrame` while `AlbumSpider` and `ProfileSpider` instances convert to `Series` for concatenation."
   ]
  },
  {
   "cell_type": "code",
   "execution_count": 6,
   "metadata": {
    "scrolled": true
   },
   "outputs": [
    {
     "data": {
      "text/html": [
       "<div>\n",
       "<style scoped>\n",
       "    .dataframe tbody tr th:only-of-type {\n",
       "        vertical-align: middle;\n",
       "    }\n",
       "\n",
       "    .dataframe tbody tr th {\n",
       "        vertical-align: top;\n",
       "    }\n",
       "\n",
       "    .dataframe thead th {\n",
       "        text-align: right;\n",
       "    }\n",
       "</style>\n",
       "<table border=\"1\" class=\"dataframe\">\n",
       "  <thead>\n",
       "    <tr style=\"text-align: right;\">\n",
       "      <th></th>\n",
       "      <th>genre</th>\n",
       "      <th>category</th>\n",
       "      <th>url</th>\n",
       "    </tr>\n",
       "  </thead>\n",
       "  <tbody>\n",
       "    <tr>\n",
       "      <th>0</th>\n",
       "      <td>rock</td>\n",
       "      <td>top</td>\n",
       "      <td>https://chriscohen.bandcamp.com/album/calamity...</td>\n",
       "    </tr>\n",
       "    <tr>\n",
       "      <th>1</th>\n",
       "      <td>rock</td>\n",
       "      <td>top</td>\n",
       "      <td>https://wearesnooze.bandcamp.com/album/familiaris</td>\n",
       "    </tr>\n",
       "    <tr>\n",
       "      <th>2</th>\n",
       "      <td>rock</td>\n",
       "      <td>top</td>\n",
       "      <td>https://comeswiththefall.bandcamp.com/album/be...</td>\n",
       "    </tr>\n",
       "    <tr>\n",
       "      <th>3</th>\n",
       "      <td>rock</td>\n",
       "      <td>top</td>\n",
       "      <td>https://comeswiththefall.bandcamp.com/album/th...</td>\n",
       "    </tr>\n",
       "    <tr>\n",
       "      <th>4</th>\n",
       "      <td>rock</td>\n",
       "      <td>top</td>\n",
       "      <td>https://chipmunkson16speed.bandcamp.com/album/...</td>\n",
       "    </tr>\n",
       "  </tbody>\n",
       "</table>\n",
       "</div>"
      ],
      "text/plain": [
       "  genre category                                                url\n",
       "0  rock      top  https://chriscohen.bandcamp.com/album/calamity...\n",
       "1  rock      top  https://wearesnooze.bandcamp.com/album/familiaris\n",
       "2  rock      top  https://comeswiththefall.bandcamp.com/album/be...\n",
       "3  rock      top  https://comeswiththefall.bandcamp.com/album/th...\n",
       "4  rock      top  https://chipmunkson16speed.bandcamp.com/album/..."
      ]
     },
     "execution_count": 6,
     "metadata": {},
     "output_type": "execute_result"
    }
   ],
   "source": [
    "tempFPS.asDataFrame().head()"
   ]
  },
  {
   "cell_type": "code",
   "execution_count": 7,
   "metadata": {},
   "outputs": [],
   "source": [
    "tempFPS.to_csv(\"./demoResources/out/FPS.csv\")"
   ]
  },
  {
   "cell_type": "code",
   "execution_count": 8,
   "metadata": {},
   "outputs": [],
   "source": [
    "del tempFPS"
   ]
  },
  {
   "cell_type": "code",
   "execution_count": 9,
   "metadata": {
    "scrolled": true
   },
   "outputs": [
    {
     "name": "stdout",
     "output_type": "stream",
     "text": [
      "genre,category,url\r\n",
      "rock,top,https://chriscohen.bandcamp.com/album/calamity-the-curtains\r\n",
      "rock,top,https://wearesnooze.bandcamp.com/album/familiaris\r\n",
      "rock,top,https://comeswiththefall.bandcamp.com/album/beyond-the-last-light\r\n",
      "rock,top,https://comeswiththefall.bandcamp.com/album/the-reckoning-ep\r\n",
      "rock,top,https://chipmunkson16speed.bandcamp.com/album/vol-1\r\n",
      "rock,top,https://spotlights.bandcamp.com/album/love-decay\r\n",
      "rock,top,https://humdrums.bandcamp.com/album/vol-iii\r\n",
      "rock,top,https://priests.bandcamp.com/album/the-seduction-of-kansas\r\n",
      "rock,top,https://filthyfriends.bandcamp.com/album/emerald-valley\r\n",
      "rock,top,https://pile.bandcamp.com/album/green-and-gray\r\n",
      "rock,top,https://introitus.bandcamp.com/album/shadows\r\n",
      "rock,top,http://shop.alonasdreamrecords.com/album/what-we-want-is-free\r\n",
      "rock,top,https://dacaptaintrips.bandcamp.com/album/rocknroll-summer-camp-vol-1\r\n",
      "rock,top,https://davidnance.bandcamp.com/album/catharsis-lottery-live-2018-2019\r\n",
      "rock,top,https://pyramidalmusic.bandcamp.com/album/pyramidal\r\n",
      "rock,top,https://covetband.bandcamp.com/album/effloresce\r\n",
      "rock,top,https://thesurfrajettes.bandcamp.com/album/party-line-toxic-single\r\n",
      "rock,top,https://helmsalee.bandcamp.com/album/noctiluca\r\n",
      "rock,top,https://riotseasonrecords.bandcamp.com/album/turn-on-tune-in-freak-out\r\n",
      "rock,top,https://erichwk.bandcamp.com/album/mother-fucking-earthbound\r\n",
      "rock,top,https://bjornriis.bandcamp.com/album/a-storm-is-coming\r\n",
      "rock,top,http://music.securityprojectband.com/album/slowburn\r\n",
      "rock,top,https://theastounds.bandcamp.com/album/ancient-flying-ghosts\r\n",
      "rock,top,https://rollerballrock.bandcamp.com/album/lost-in-space-20th-anniversary-re-release\r\n",
      "rock,top,https://thescreamingfly1.bandcamp.com/album/trip-to-venus\r\n",
      "rock,top,https://earthtongue.bandcamp.com/album/floating-being-2\r\n",
      "rock,top,https://saigonbluerain.bandcamp.com/album/pink-obsession\r\n",
      "rock,top,https://faeriering.bandcamp.com/album/the-clearing\r\n",
      "rock,top,http://shop.alonasdreamrecords.com/album/wait\r\n",
      "rock,top,https://intoorbit.bandcamp.com/album/kinesis\r\n",
      "rock,top,https://americanfootball.bandcamp.com/album/american-football-lp3\r\n",
      "rock,top,https://macdemarco.bandcamp.com/album/salad-days\r\n",
      "rock,top,https://voidstrider.bandcamp.com/album/voidstrider-ep\r\n",
      "rock,top,https://sunset-rollercoaster.bandcamp.com/album/vanilla-villa-ep\r\n",
      "rock,top,https://mosgenerator.bandcamp.com/album/night-of-the-lords-live-in-manchester-uk-10-4-17\r\n",
      "rock,top,https://theminus5.bandcamp.com/album/stroke-manor\r\n",
      "rock,top,https://feedy.bandcamp.com/album/feedy\r\n",
      "rock,top,https://highpriestchicago.bandcamp.com/album/sanctum-ep\r\n",
      "rock,top,https://thefarmeadow.bandcamp.com/album/foreign-land\r\n",
      "rock,top,https://wand.bandcamp.com/album/laughing-matter\r\n"
     ]
    }
   ],
   "source": [
    "!cat \"./demoResources/out/FPS.csv\""
   ]
  },
  {
   "cell_type": "markdown",
   "metadata": {},
   "source": [
    "## What do you find on Bandcamp?\n",
    "\n",
    "Here we look at what genres are most popular on Bandcamp"
   ]
  },
  {
   "cell_type": "code",
   "execution_count": null,
   "metadata": {},
   "outputs": [],
   "source": [
    "## Uncomment and run this script if the following CSV is not available\n",
    "## Such as if this library was obtained from github.\n",
    "\n",
    "# import demoFrontPage"
   ]
  },
  {
   "cell_type": "code",
   "execution_count": 2,
   "metadata": {
    "scrolled": true
   },
   "outputs": [
    {
     "data": {
      "text/html": [
       "<div>\n",
       "<style scoped>\n",
       "    .dataframe tbody tr th:only-of-type {\n",
       "        vertical-align: middle;\n",
       "    }\n",
       "\n",
       "    .dataframe tbody tr th {\n",
       "        vertical-align: top;\n",
       "    }\n",
       "\n",
       "    .dataframe thead th {\n",
       "        text-align: right;\n",
       "    }\n",
       "</style>\n",
       "<table border=\"1\" class=\"dataframe\">\n",
       "  <thead>\n",
       "    <tr style=\"text-align: right;\">\n",
       "      <th></th>\n",
       "      <th>genre</th>\n",
       "      <th>category</th>\n",
       "      <th>url</th>\n",
       "    </tr>\n",
       "  </thead>\n",
       "  <tbody>\n",
       "    <tr>\n",
       "      <th>0</th>\n",
       "      <td>electronic</td>\n",
       "      <td>top</td>\n",
       "      <td>https://joshuamorse.bandcamp.com/album/power-s...</td>\n",
       "    </tr>\n",
       "    <tr>\n",
       "      <th>1</th>\n",
       "      <td>electronic</td>\n",
       "      <td>top</td>\n",
       "      <td>https://spunoutofcontrol.bandcamp.com/album/ream</td>\n",
       "    </tr>\n",
       "    <tr>\n",
       "      <th>2</th>\n",
       "      <td>electronic</td>\n",
       "      <td>top</td>\n",
       "      <td>https://sidewalksandskeletons.bandcamp.com/alb...</td>\n",
       "    </tr>\n",
       "    <tr>\n",
       "      <th>3</th>\n",
       "      <td>electronic</td>\n",
       "      <td>top</td>\n",
       "      <td>https://midwestcollective.bandcamp.com/album/o...</td>\n",
       "    </tr>\n",
       "    <tr>\n",
       "      <th>4</th>\n",
       "      <td>electronic</td>\n",
       "      <td>top</td>\n",
       "      <td>https://headlesshorsemanberlin.bandcamp.com/al...</td>\n",
       "    </tr>\n",
       "  </tbody>\n",
       "</table>\n",
       "</div>"
      ],
      "text/plain": [
       "        genre category                                                url\n",
       "0  electronic      top  https://joshuamorse.bandcamp.com/album/power-s...\n",
       "1  electronic      top   https://spunoutofcontrol.bandcamp.com/album/ream\n",
       "2  electronic      top  https://sidewalksandskeletons.bandcamp.com/alb...\n",
       "3  electronic      top  https://midwestcollective.bandcamp.com/album/o...\n",
       "4  electronic      top  https://headlesshorsemanberlin.bandcamp.com/al..."
      ]
     },
     "execution_count": 2,
     "metadata": {},
     "output_type": "execute_result"
    }
   ],
   "source": [
    "frontPageResults = pd.read_csv(\"./demoResources/demoFrontPage.csv\")\n",
    "frontPageResults.head()"
   ]
  },
  {
   "cell_type": "code",
   "execution_count": 3,
   "metadata": {
    "scrolled": true
   },
   "outputs": [
    {
     "data": {
      "text/plain": [
       "rock            160\n",
       "jazz            160\n",
       "hip-hop-rap     160\n",
       "acoustic        160\n",
       "electronic      160\n",
       "funk            160\n",
       "reggae          160\n",
       "world           160\n",
       "r-b-soul        160\n",
       "ambient         160\n",
       "alternative     160\n",
       "folk            160\n",
       "soundtrack      160\n",
       "pop             160\n",
       "experimental    160\n",
       "metal           160\n",
       "punk            160\n",
       "classical       132\n",
       "devotional      125\n",
       "country          92\n",
       "blues            73\n",
       "comedy           49\n",
       "spoken-word      31\n",
       "Name: genre, dtype: int64"
      ]
     },
     "execution_count": 3,
     "metadata": {},
     "output_type": "execute_result"
    }
   ],
   "source": [
    "frontPageResults.genre.value_counts()"
   ]
  },
  {
   "cell_type": "markdown",
   "metadata": {},
   "source": [
    "We are looking at popular genres so we ignore those that do not have at least 20 pages worth of results. For time constraints we limit the search to 25 items per genre.\n",
    "\n",
    "Additionally, we truncate how many supporters are scraped per album because some very popular albums have very many supporters."
   ]
  },
  {
   "cell_type": "code",
   "execution_count": 8,
   "metadata": {
    "scrolled": true
   },
   "outputs": [
    {
     "data": {
      "text/html": [
       "<div>\n",
       "<style scoped>\n",
       "    .dataframe tbody tr th:only-of-type {\n",
       "        vertical-align: middle;\n",
       "    }\n",
       "\n",
       "    .dataframe tbody tr th {\n",
       "        vertical-align: top;\n",
       "    }\n",
       "\n",
       "    .dataframe thead th {\n",
       "        text-align: right;\n",
       "    }\n",
       "</style>\n",
       "<table border=\"1\" class=\"dataframe\">\n",
       "  <thead>\n",
       "    <tr style=\"text-align: right;\">\n",
       "      <th></th>\n",
       "      <th>genre</th>\n",
       "      <th>category</th>\n",
       "      <th>url</th>\n",
       "    </tr>\n",
       "  </thead>\n",
       "  <tbody>\n",
       "    <tr>\n",
       "      <th>0</th>\n",
       "      <td>electronic</td>\n",
       "      <td>top</td>\n",
       "      <td>https://joshuamorse.bandcamp.com/album/power-s...</td>\n",
       "    </tr>\n",
       "    <tr>\n",
       "      <th>1</th>\n",
       "      <td>electronic</td>\n",
       "      <td>top</td>\n",
       "      <td>https://spunoutofcontrol.bandcamp.com/album/ream</td>\n",
       "    </tr>\n",
       "    <tr>\n",
       "      <th>2</th>\n",
       "      <td>electronic</td>\n",
       "      <td>top</td>\n",
       "      <td>https://sidewalksandskeletons.bandcamp.com/alb...</td>\n",
       "    </tr>\n",
       "    <tr>\n",
       "      <th>3</th>\n",
       "      <td>electronic</td>\n",
       "      <td>top</td>\n",
       "      <td>https://midwestcollective.bandcamp.com/album/o...</td>\n",
       "    </tr>\n",
       "    <tr>\n",
       "      <th>4</th>\n",
       "      <td>electronic</td>\n",
       "      <td>top</td>\n",
       "      <td>https://headlesshorsemanberlin.bandcamp.com/al...</td>\n",
       "    </tr>\n",
       "    <tr>\n",
       "      <th>5</th>\n",
       "      <td>electronic</td>\n",
       "      <td>top</td>\n",
       "      <td>https://themidnight.bandcamp.com/album/kids</td>\n",
       "    </tr>\n",
       "    <tr>\n",
       "      <th>6</th>\n",
       "      <td>electronic</td>\n",
       "      <td>top</td>\n",
       "      <td>https://fearofdark.bandcamp.com/album/motorway</td>\n",
       "    </tr>\n",
       "    <tr>\n",
       "      <th>7</th>\n",
       "      <td>electronic</td>\n",
       "      <td>top</td>\n",
       "      <td>https://pinkman.bandcamp.com/album/my-master-p...</td>\n",
       "    </tr>\n",
       "    <tr>\n",
       "      <th>8</th>\n",
       "      <td>electronic</td>\n",
       "      <td>top</td>\n",
       "      <td>https://waveshaper1.bandcamp.com/album/artifact</td>\n",
       "    </tr>\n",
       "    <tr>\n",
       "      <th>9</th>\n",
       "      <td>electronic</td>\n",
       "      <td>top</td>\n",
       "      <td>https://sidewalksandskeletons.bandcamp.com/alb...</td>\n",
       "    </tr>\n",
       "    <tr>\n",
       "      <th>10</th>\n",
       "      <td>electronic</td>\n",
       "      <td>top</td>\n",
       "      <td>https://jarreauvandal.bandcamp.com/album/vanda...</td>\n",
       "    </tr>\n",
       "    <tr>\n",
       "      <th>11</th>\n",
       "      <td>electronic</td>\n",
       "      <td>top</td>\n",
       "      <td>http://music.businesscasual.biz/album/m-lonade...</td>\n",
       "    </tr>\n",
       "    <tr>\n",
       "      <th>12</th>\n",
       "      <td>electronic</td>\n",
       "      <td>top</td>\n",
       "      <td>https://spunoutofcontrol.bandcamp.com/album/fr...</td>\n",
       "    </tr>\n",
       "    <tr>\n",
       "      <th>13</th>\n",
       "      <td>electronic</td>\n",
       "      <td>top</td>\n",
       "      <td>https://geometriclullaby.bandcamp.com/album/--14</td>\n",
       "    </tr>\n",
       "    <tr>\n",
       "      <th>14</th>\n",
       "      <td>electronic</td>\n",
       "      <td>top</td>\n",
       "      <td>https://ic3peak.bandcamp.com/album/--3</td>\n",
       "    </tr>\n",
       "    <tr>\n",
       "      <th>15</th>\n",
       "      <td>electronic</td>\n",
       "      <td>top</td>\n",
       "      <td>https://eternalr.bandcamp.com/album/tears-in-rain</td>\n",
       "    </tr>\n",
       "    <tr>\n",
       "      <th>16</th>\n",
       "      <td>electronic</td>\n",
       "      <td>top</td>\n",
       "      <td>http://music.gamechops.com/album/zelda-chill</td>\n",
       "    </tr>\n",
       "    <tr>\n",
       "      <th>17</th>\n",
       "      <td>electronic</td>\n",
       "      <td>top</td>\n",
       "      <td>https://lagasta.bandcamp.com/album/lagasta-10-...</td>\n",
       "    </tr>\n",
       "    <tr>\n",
       "      <th>18</th>\n",
       "      <td>electronic</td>\n",
       "      <td>top</td>\n",
       "      <td>https://poniesatdawn.bandcamp.com/album/skyward</td>\n",
       "    </tr>\n",
       "    <tr>\n",
       "      <th>19</th>\n",
       "      <td>electronic</td>\n",
       "      <td>top</td>\n",
       "      <td>https://analogicalforce.bandcamp.com/album/af0...</td>\n",
       "    </tr>\n",
       "    <tr>\n",
       "      <th>20</th>\n",
       "      <td>electronic</td>\n",
       "      <td>top</td>\n",
       "      <td>http://music.gamechops.com/album/mario-chill</td>\n",
       "    </tr>\n",
       "    <tr>\n",
       "      <th>21</th>\n",
       "      <td>electronic</td>\n",
       "      <td>top</td>\n",
       "      <td>https://shponglemusic.bandcamp.com/album/nothi...</td>\n",
       "    </tr>\n",
       "    <tr>\n",
       "      <th>22</th>\n",
       "      <td>electronic</td>\n",
       "      <td>top</td>\n",
       "      <td>https://memorexmemories.bandcamp.com/album/in-...</td>\n",
       "    </tr>\n",
       "    <tr>\n",
       "      <th>23</th>\n",
       "      <td>electronic</td>\n",
       "      <td>top</td>\n",
       "      <td>https://kangdingray.bandcamp.com/album/predawn...</td>\n",
       "    </tr>\n",
       "    <tr>\n",
       "      <th>24</th>\n",
       "      <td>electronic</td>\n",
       "      <td>top</td>\n",
       "      <td>https://klassewrecks.bandcamp.com/album/fall-o...</td>\n",
       "    </tr>\n",
       "    <tr>\n",
       "      <th>160</th>\n",
       "      <td>rock</td>\n",
       "      <td>top</td>\n",
       "      <td>https://chriscohen.bandcamp.com/album/calamity...</td>\n",
       "    </tr>\n",
       "    <tr>\n",
       "      <th>161</th>\n",
       "      <td>rock</td>\n",
       "      <td>top</td>\n",
       "      <td>https://wearesnooze.bandcamp.com/album/familiaris</td>\n",
       "    </tr>\n",
       "    <tr>\n",
       "      <th>162</th>\n",
       "      <td>rock</td>\n",
       "      <td>top</td>\n",
       "      <td>https://comeswiththefall.bandcamp.com/album/be...</td>\n",
       "    </tr>\n",
       "    <tr>\n",
       "      <th>163</th>\n",
       "      <td>rock</td>\n",
       "      <td>top</td>\n",
       "      <td>https://comeswiththefall.bandcamp.com/album/th...</td>\n",
       "    </tr>\n",
       "    <tr>\n",
       "      <th>164</th>\n",
       "      <td>rock</td>\n",
       "      <td>top</td>\n",
       "      <td>https://chipmunkson16speed.bandcamp.com/album/...</td>\n",
       "    </tr>\n",
       "    <tr>\n",
       "      <th>...</th>\n",
       "      <td>...</td>\n",
       "      <td>...</td>\n",
       "      <td>...</td>\n",
       "    </tr>\n",
       "    <tr>\n",
       "      <th>2420</th>\n",
       "      <td>r-b-soul</td>\n",
       "      <td>top</td>\n",
       "      <td>https://sevendavisjrmusic.bandcamp.com/album/s...</td>\n",
       "    </tr>\n",
       "    <tr>\n",
       "      <th>2421</th>\n",
       "      <td>r-b-soul</td>\n",
       "      <td>top</td>\n",
       "      <td>https://singwithmi.bandcamp.com/album/stay-tuned</td>\n",
       "    </tr>\n",
       "    <tr>\n",
       "      <th>2422</th>\n",
       "      <td>r-b-soul</td>\n",
       "      <td>top</td>\n",
       "      <td>https://singwithmi.bandcamp.com/album/nameless</td>\n",
       "    </tr>\n",
       "    <tr>\n",
       "      <th>2423</th>\n",
       "      <td>r-b-soul</td>\n",
       "      <td>top</td>\n",
       "      <td>https://devinmorrison.bandcamp.com/album/bussin</td>\n",
       "    </tr>\n",
       "    <tr>\n",
       "      <th>2424</th>\n",
       "      <td>r-b-soul</td>\n",
       "      <td>top</td>\n",
       "      <td>https://tuanhung.bandcamp.com/album/tim-lai-ba...</td>\n",
       "    </tr>\n",
       "    <tr>\n",
       "      <th>2817</th>\n",
       "      <td>reggae</td>\n",
       "      <td>top</td>\n",
       "      <td>https://massiliahi-fi.bandcamp.com/album/massi...</td>\n",
       "    </tr>\n",
       "    <tr>\n",
       "      <th>2818</th>\n",
       "      <td>reggae</td>\n",
       "      <td>top</td>\n",
       "      <td>https://lordecho.bandcamp.com/album/the-sweete...</td>\n",
       "    </tr>\n",
       "    <tr>\n",
       "      <th>2819</th>\n",
       "      <td>reggae</td>\n",
       "      <td>top</td>\n",
       "      <td>https://blackmarketdub.bandcamp.com/album/bowi...</td>\n",
       "    </tr>\n",
       "    <tr>\n",
       "      <th>2820</th>\n",
       "      <td>reggae</td>\n",
       "      <td>top</td>\n",
       "      <td>https://blackmarketdub.bandcamp.com/album/unit...</td>\n",
       "    </tr>\n",
       "    <tr>\n",
       "      <th>2821</th>\n",
       "      <td>reggae</td>\n",
       "      <td>top</td>\n",
       "      <td>https://duppygun.bandcamp.com/album/love-di-pe...</td>\n",
       "    </tr>\n",
       "    <tr>\n",
       "      <th>2822</th>\n",
       "      <td>reggae</td>\n",
       "      <td>top</td>\n",
       "      <td>https://dubstorerecords.bandcamp.com/album/reg...</td>\n",
       "    </tr>\n",
       "    <tr>\n",
       "      <th>2823</th>\n",
       "      <td>reggae</td>\n",
       "      <td>top</td>\n",
       "      <td>https://horusrecords.bandcamp.com/album/i-dont...</td>\n",
       "    </tr>\n",
       "    <tr>\n",
       "      <th>2824</th>\n",
       "      <td>reggae</td>\n",
       "      <td>top</td>\n",
       "      <td>https://horusrecords.bandcamp.com/album/shaka-...</td>\n",
       "    </tr>\n",
       "    <tr>\n",
       "      <th>2825</th>\n",
       "      <td>reggae</td>\n",
       "      <td>top</td>\n",
       "      <td>https://pressuresounds.bandcamp.com/album/wall...</td>\n",
       "    </tr>\n",
       "    <tr>\n",
       "      <th>2826</th>\n",
       "      <td>reggae</td>\n",
       "      <td>top</td>\n",
       "      <td>https://pressuresounds.bandcamp.com/album/judg...</td>\n",
       "    </tr>\n",
       "    <tr>\n",
       "      <th>2827</th>\n",
       "      <td>reggae</td>\n",
       "      <td>top</td>\n",
       "      <td>https://princefatty.bandcamp.com/album/be-than...</td>\n",
       "    </tr>\n",
       "    <tr>\n",
       "      <th>2828</th>\n",
       "      <td>reggae</td>\n",
       "      <td>top</td>\n",
       "      <td>https://djvadim.bandcamp.com/album/oneself-chi...</td>\n",
       "    </tr>\n",
       "    <tr>\n",
       "      <th>2829</th>\n",
       "      <td>reggae</td>\n",
       "      <td>top</td>\n",
       "      <td>https://claudefontaine.bandcamp.com/album/clau...</td>\n",
       "    </tr>\n",
       "    <tr>\n",
       "      <th>2830</th>\n",
       "      <td>reggae</td>\n",
       "      <td>top</td>\n",
       "      <td>https://bentbacksrecords.bandcamp.com/album/cr...</td>\n",
       "    </tr>\n",
       "    <tr>\n",
       "      <th>2831</th>\n",
       "      <td>reggae</td>\n",
       "      <td>top</td>\n",
       "      <td>https://londonintlskafestival.bandcamp.com/alb...</td>\n",
       "    </tr>\n",
       "    <tr>\n",
       "      <th>2832</th>\n",
       "      <td>reggae</td>\n",
       "      <td>top</td>\n",
       "      <td>https://leeperry.bandcamp.com/album/rainford</td>\n",
       "    </tr>\n",
       "    <tr>\n",
       "      <th>2833</th>\n",
       "      <td>reggae</td>\n",
       "      <td>top</td>\n",
       "      <td>https://jahmilitant.bandcamp.com/album/khayo-b...</td>\n",
       "    </tr>\n",
       "    <tr>\n",
       "      <th>2834</th>\n",
       "      <td>reggae</td>\n",
       "      <td>top</td>\n",
       "      <td>https://djvadim.bandcamp.com/album/dj-vadim-du...</td>\n",
       "    </tr>\n",
       "    <tr>\n",
       "      <th>2835</th>\n",
       "      <td>reggae</td>\n",
       "      <td>top</td>\n",
       "      <td>https://dubvision.bandcamp.com/album/the-riddi...</td>\n",
       "    </tr>\n",
       "    <tr>\n",
       "      <th>2836</th>\n",
       "      <td>reggae</td>\n",
       "      <td>top</td>\n",
       "      <td>https://congonattymusic.bandcamp.com/album/jun...</td>\n",
       "    </tr>\n",
       "    <tr>\n",
       "      <th>2837</th>\n",
       "      <td>reggae</td>\n",
       "      <td>top</td>\n",
       "      <td>https://moonshinerecordings.bandcamp.com/album...</td>\n",
       "    </tr>\n",
       "    <tr>\n",
       "      <th>2838</th>\n",
       "      <td>reggae</td>\n",
       "      <td>top</td>\n",
       "      <td>https://iroots.bandcamp.com/album/nefertiti</td>\n",
       "    </tr>\n",
       "    <tr>\n",
       "      <th>2839</th>\n",
       "      <td>reggae</td>\n",
       "      <td>top</td>\n",
       "      <td>https://iroots.bandcamp.com/album/worthy</td>\n",
       "    </tr>\n",
       "    <tr>\n",
       "      <th>2840</th>\n",
       "      <td>reggae</td>\n",
       "      <td>top</td>\n",
       "      <td>https://artx.bandcamp.com/album/heady-tunes</td>\n",
       "    </tr>\n",
       "    <tr>\n",
       "      <th>2841</th>\n",
       "      <td>reggae</td>\n",
       "      <td>top</td>\n",
       "      <td>https://jabbadub.bandcamp.com/album/jabbadub-p...</td>\n",
       "    </tr>\n",
       "  </tbody>\n",
       "</table>\n",
       "<p>425 rows × 3 columns</p>\n",
       "</div>"
      ],
      "text/plain": [
       "           genre category                                                url\n",
       "0     electronic      top  https://joshuamorse.bandcamp.com/album/power-s...\n",
       "1     electronic      top   https://spunoutofcontrol.bandcamp.com/album/ream\n",
       "2     electronic      top  https://sidewalksandskeletons.bandcamp.com/alb...\n",
       "3     electronic      top  https://midwestcollective.bandcamp.com/album/o...\n",
       "4     electronic      top  https://headlesshorsemanberlin.bandcamp.com/al...\n",
       "5     electronic      top        https://themidnight.bandcamp.com/album/kids\n",
       "6     electronic      top     https://fearofdark.bandcamp.com/album/motorway\n",
       "7     electronic      top  https://pinkman.bandcamp.com/album/my-master-p...\n",
       "8     electronic      top    https://waveshaper1.bandcamp.com/album/artifact\n",
       "9     electronic      top  https://sidewalksandskeletons.bandcamp.com/alb...\n",
       "10    electronic      top  https://jarreauvandal.bandcamp.com/album/vanda...\n",
       "11    electronic      top  http://music.businesscasual.biz/album/m-lonade...\n",
       "12    electronic      top  https://spunoutofcontrol.bandcamp.com/album/fr...\n",
       "13    electronic      top   https://geometriclullaby.bandcamp.com/album/--14\n",
       "14    electronic      top             https://ic3peak.bandcamp.com/album/--3\n",
       "15    electronic      top  https://eternalr.bandcamp.com/album/tears-in-rain\n",
       "16    electronic      top       http://music.gamechops.com/album/zelda-chill\n",
       "17    electronic      top  https://lagasta.bandcamp.com/album/lagasta-10-...\n",
       "18    electronic      top    https://poniesatdawn.bandcamp.com/album/skyward\n",
       "19    electronic      top  https://analogicalforce.bandcamp.com/album/af0...\n",
       "20    electronic      top       http://music.gamechops.com/album/mario-chill\n",
       "21    electronic      top  https://shponglemusic.bandcamp.com/album/nothi...\n",
       "22    electronic      top  https://memorexmemories.bandcamp.com/album/in-...\n",
       "23    electronic      top  https://kangdingray.bandcamp.com/album/predawn...\n",
       "24    electronic      top  https://klassewrecks.bandcamp.com/album/fall-o...\n",
       "160         rock      top  https://chriscohen.bandcamp.com/album/calamity...\n",
       "161         rock      top  https://wearesnooze.bandcamp.com/album/familiaris\n",
       "162         rock      top  https://comeswiththefall.bandcamp.com/album/be...\n",
       "163         rock      top  https://comeswiththefall.bandcamp.com/album/th...\n",
       "164         rock      top  https://chipmunkson16speed.bandcamp.com/album/...\n",
       "...          ...      ...                                                ...\n",
       "2420    r-b-soul      top  https://sevendavisjrmusic.bandcamp.com/album/s...\n",
       "2421    r-b-soul      top   https://singwithmi.bandcamp.com/album/stay-tuned\n",
       "2422    r-b-soul      top     https://singwithmi.bandcamp.com/album/nameless\n",
       "2423    r-b-soul      top    https://devinmorrison.bandcamp.com/album/bussin\n",
       "2424    r-b-soul      top  https://tuanhung.bandcamp.com/album/tim-lai-ba...\n",
       "2817      reggae      top  https://massiliahi-fi.bandcamp.com/album/massi...\n",
       "2818      reggae      top  https://lordecho.bandcamp.com/album/the-sweete...\n",
       "2819      reggae      top  https://blackmarketdub.bandcamp.com/album/bowi...\n",
       "2820      reggae      top  https://blackmarketdub.bandcamp.com/album/unit...\n",
       "2821      reggae      top  https://duppygun.bandcamp.com/album/love-di-pe...\n",
       "2822      reggae      top  https://dubstorerecords.bandcamp.com/album/reg...\n",
       "2823      reggae      top  https://horusrecords.bandcamp.com/album/i-dont...\n",
       "2824      reggae      top  https://horusrecords.bandcamp.com/album/shaka-...\n",
       "2825      reggae      top  https://pressuresounds.bandcamp.com/album/wall...\n",
       "2826      reggae      top  https://pressuresounds.bandcamp.com/album/judg...\n",
       "2827      reggae      top  https://princefatty.bandcamp.com/album/be-than...\n",
       "2828      reggae      top  https://djvadim.bandcamp.com/album/oneself-chi...\n",
       "2829      reggae      top  https://claudefontaine.bandcamp.com/album/clau...\n",
       "2830      reggae      top  https://bentbacksrecords.bandcamp.com/album/cr...\n",
       "2831      reggae      top  https://londonintlskafestival.bandcamp.com/alb...\n",
       "2832      reggae      top       https://leeperry.bandcamp.com/album/rainford\n",
       "2833      reggae      top  https://jahmilitant.bandcamp.com/album/khayo-b...\n",
       "2834      reggae      top  https://djvadim.bandcamp.com/album/dj-vadim-du...\n",
       "2835      reggae      top  https://dubvision.bandcamp.com/album/the-riddi...\n",
       "2836      reggae      top  https://congonattymusic.bandcamp.com/album/jun...\n",
       "2837      reggae      top  https://moonshinerecordings.bandcamp.com/album...\n",
       "2838      reggae      top        https://iroots.bandcamp.com/album/nefertiti\n",
       "2839      reggae      top           https://iroots.bandcamp.com/album/worthy\n",
       "2840      reggae      top        https://artx.bandcamp.com/album/heady-tunes\n",
       "2841      reggae      top  https://jabbadub.bandcamp.com/album/jabbadub-p...\n",
       "\n",
       "[425 rows x 3 columns]"
      ]
     },
     "execution_count": 8,
     "metadata": {},
     "output_type": "execute_result"
    }
   ],
   "source": [
    "frontPageSample = frontPageResults.groupby(\"genre\").filter(lambda x: len(x) > 150).groupby(\"genre\").head(25)"
   ]
  },
  {
   "cell_type": "code",
   "execution_count": 16,
   "metadata": {},
   "outputs": [
    {
     "data": {
      "text/html": [
       "\n",
       "        <iframe\n",
       "            width=\"1000\"\n",
       "            height=\"600\"\n",
       "            src=\"https://joshuamorse.bandcamp.com/album/power-shot-2\"\n",
       "            frameborder=\"0\"\n",
       "            allowfullscreen\n",
       "        ></iframe>\n",
       "        "
      ],
      "text/plain": [
       "<IPython.lib.display.IFrame at 0x7f21dade7e48>"
      ]
     },
     "execution_count": 16,
     "metadata": {},
     "output_type": "execute_result"
    }
   ],
   "source": [
    "exURL = frontPageSample.iloc[0,2]\n",
    "IFrame(src=exURL,width=1000,height=600)"
   ]
  },
  {
   "cell_type": "code",
   "execution_count": 17,
   "metadata": {},
   "outputs": [
    {
     "data": {
      "text/plain": [
       "18"
      ]
     },
     "execution_count": 17,
     "metadata": {},
     "output_type": "execute_result"
    }
   ],
   "source": [
    "exAlbum = AlbumSpider(exURL,logfile=\"./demoResources/out/albumLog.txt\")\n",
    "len(exAlbum.getSupporters())\n",
    "del exAlbum"
   ]
  },
  {
   "cell_type": "code",
   "execution_count": 20,
   "metadata": {},
   "outputs": [
    {
     "data": {
      "text/plain": [
       "(3222, 3)"
      ]
     },
     "execution_count": 20,
     "metadata": {},
     "output_type": "execute_result"
    }
   ],
   "source": [
    "frontPageSample.shape"
   ]
  },
  {
   "cell_type": "code",
   "execution_count": 12,
   "metadata": {},
   "outputs": [
    {
     "data": {
      "text/html": [
       "<div>\n",
       "<style scoped>\n",
       "    .dataframe tbody tr th:only-of-type {\n",
       "        vertical-align: middle;\n",
       "    }\n",
       "\n",
       "    .dataframe tbody tr th {\n",
       "        vertical-align: top;\n",
       "    }\n",
       "\n",
       "    .dataframe thead th {\n",
       "        text-align: right;\n",
       "    }\n",
       "</style>\n",
       "<table border=\"1\" class=\"dataframe\">\n",
       "  <thead>\n",
       "    <tr style=\"text-align: right;\">\n",
       "      <th></th>\n",
       "      <th>genre</th>\n",
       "      <th>url</th>\n",
       "      <th>supporter count</th>\n",
       "    </tr>\n",
       "  </thead>\n",
       "  <tbody>\n",
       "    <tr>\n",
       "      <th>0</th>\n",
       "      <td>electronic</td>\n",
       "      <td>https://joshuamorse.bandcamp.com/album/power-s...</td>\n",
       "      <td>18</td>\n",
       "    </tr>\n",
       "    <tr>\n",
       "      <th>1</th>\n",
       "      <td>electronic</td>\n",
       "      <td>https://spunoutofcontrol.bandcamp.com/album/ream</td>\n",
       "      <td>34</td>\n",
       "    </tr>\n",
       "    <tr>\n",
       "      <th>2</th>\n",
       "      <td>electronic</td>\n",
       "      <td>https://sidewalksandskeletons.bandcamp.com/alb...</td>\n",
       "      <td>1076</td>\n",
       "    </tr>\n",
       "    <tr>\n",
       "      <th>3</th>\n",
       "      <td>electronic</td>\n",
       "      <td>https://midwestcollective.bandcamp.com/album/o...</td>\n",
       "      <td>1873</td>\n",
       "    </tr>\n",
       "    <tr>\n",
       "      <th>4</th>\n",
       "      <td>electronic</td>\n",
       "      <td>https://headlesshorsemanberlin.bandcamp.com/al...</td>\n",
       "      <td>16</td>\n",
       "    </tr>\n",
       "  </tbody>\n",
       "</table>\n",
       "</div>"
      ],
      "text/plain": [
       "        genre                                                url  \\\n",
       "0  electronic  https://joshuamorse.bandcamp.com/album/power-s...   \n",
       "1  electronic   https://spunoutofcontrol.bandcamp.com/album/ream   \n",
       "2  electronic  https://sidewalksandskeletons.bandcamp.com/alb...   \n",
       "3  electronic  https://midwestcollective.bandcamp.com/album/o...   \n",
       "4  electronic  https://headlesshorsemanberlin.bandcamp.com/al...   \n",
       "\n",
       "   supporter count  \n",
       "0               18  \n",
       "1               34  \n",
       "2             1076  \n",
       "3             1873  \n",
       "4               16  "
      ]
     },
     "execution_count": 12,
     "metadata": {},
     "output_type": "execute_result"
    }
   ],
   "source": [
    "popGenres = pd.read_csv(\"./demoResources/supporterCounts.csv\").drop([\"Unnamed: 0\"],axis=1)\n",
    "popGenres.head()"
   ]
  },
  {
   "cell_type": "code",
   "execution_count": 13,
   "metadata": {
    "scrolled": true
   },
   "outputs": [
    {
     "data": {
      "text/plain": [
       "<matplotlib.axes._subplots.AxesSubplot at 0x7ff7ded09a20>"
      ]
     },
     "execution_count": 13,
     "metadata": {},
     "output_type": "execute_result"
    },
    {
     "data": {
      "image/png": "[encoded data removed]",
      "text/plain": [
       "<Figure size 432x288 with 1 Axes>"
      ]
     },
     "metadata": {
      "needs_background": "light"
     },
     "output_type": "display_data"
    }
   ],
   "source": [
    "sns.distplot(popGenres[\"supporter count\"])"
   ]
  },
  {
   "cell_type": "code",
   "execution_count": 23,
   "metadata": {
    "scrolled": false
   },
   "outputs": [
    {
     "data": {
      "text/plain": [
       "<seaborn.axisgrid.FacetGrid at 0x7ff7d430f438>"
      ]
     },
     "execution_count": 23,
     "metadata": {},
     "output_type": "execute_result"
    },
    {
     "data": {
      "image/png": "[encoded data removed]",
      "text/plain": [
       "<Figure size 864x1080 with 17 Axes>"
      ]
     },
     "metadata": {
      "needs_background": "light"
     },
     "output_type": "display_data"
    }
   ],
   "source": [
    "genreGrid = sns.FacetGrid(popGenres,col=\"genre\",col_wrap=4,height=3,xlim=(0,2000),ylim=(0,0.015))\n",
    "genreGrid.map(sns.distplot,\"supporter count\",bins=30)"
   ]
  },
  {
   "cell_type": "code",
   "execution_count": 36,
   "metadata": {},
   "outputs": [
    {
     "data": {
      "text/html": [
       "<div>\n",
       "<style scoped>\n",
       "    .dataframe tbody tr th:only-of-type {\n",
       "        vertical-align: middle;\n",
       "    }\n",
       "\n",
       "    .dataframe tbody tr th {\n",
       "        vertical-align: top;\n",
       "    }\n",
       "\n",
       "    .dataframe thead tr th {\n",
       "        text-align: left;\n",
       "    }\n",
       "\n",
       "    .dataframe thead tr:last-of-type th {\n",
       "        text-align: right;\n",
       "    }\n",
       "</style>\n",
       "<table border=\"1\" class=\"dataframe\">\n",
       "  <thead>\n",
       "    <tr>\n",
       "      <th></th>\n",
       "      <th colspan=\"3\" halign=\"left\">supporter count</th>\n",
       "    </tr>\n",
       "    <tr>\n",
       "      <th></th>\n",
       "      <th>sum</th>\n",
       "      <th>mean</th>\n",
       "      <th>std</th>\n",
       "    </tr>\n",
       "    <tr>\n",
       "      <th>genre</th>\n",
       "      <th></th>\n",
       "      <th></th>\n",
       "      <th></th>\n",
       "    </tr>\n",
       "  </thead>\n",
       "  <tbody>\n",
       "    <tr>\n",
       "      <th>soundtrack</th>\n",
       "      <td>23396</td>\n",
       "      <td>935.84</td>\n",
       "      <td>788.082307</td>\n",
       "    </tr>\n",
       "    <tr>\n",
       "      <th>pop</th>\n",
       "      <td>12903</td>\n",
       "      <td>516.12</td>\n",
       "      <td>689.461585</td>\n",
       "    </tr>\n",
       "    <tr>\n",
       "      <th>jazz</th>\n",
       "      <td>12879</td>\n",
       "      <td>515.16</td>\n",
       "      <td>656.107377</td>\n",
       "    </tr>\n",
       "    <tr>\n",
       "      <th>funk</th>\n",
       "      <td>12702</td>\n",
       "      <td>508.08</td>\n",
       "      <td>714.832260</td>\n",
       "    </tr>\n",
       "    <tr>\n",
       "      <th>metal</th>\n",
       "      <td>9592</td>\n",
       "      <td>383.68</td>\n",
       "      <td>521.129920</td>\n",
       "    </tr>\n",
       "    <tr>\n",
       "      <th>hip-hop-rap</th>\n",
       "      <td>9454</td>\n",
       "      <td>378.16</td>\n",
       "      <td>628.027446</td>\n",
       "    </tr>\n",
       "    <tr>\n",
       "      <th>electronic</th>\n",
       "      <td>8489</td>\n",
       "      <td>339.56</td>\n",
       "      <td>550.367156</td>\n",
       "    </tr>\n",
       "    <tr>\n",
       "      <th>folk</th>\n",
       "      <td>7274</td>\n",
       "      <td>290.96</td>\n",
       "      <td>465.138195</td>\n",
       "    </tr>\n",
       "    <tr>\n",
       "      <th>ambient</th>\n",
       "      <td>6320</td>\n",
       "      <td>252.80</td>\n",
       "      <td>511.303644</td>\n",
       "    </tr>\n",
       "    <tr>\n",
       "      <th>world</th>\n",
       "      <td>6168</td>\n",
       "      <td>246.72</td>\n",
       "      <td>325.583133</td>\n",
       "    </tr>\n",
       "    <tr>\n",
       "      <th>alternative</th>\n",
       "      <td>5665</td>\n",
       "      <td>226.60</td>\n",
       "      <td>264.085371</td>\n",
       "    </tr>\n",
       "    <tr>\n",
       "      <th>rock</th>\n",
       "      <td>4768</td>\n",
       "      <td>190.72</td>\n",
       "      <td>405.748436</td>\n",
       "    </tr>\n",
       "    <tr>\n",
       "      <th>r-b-soul</th>\n",
       "      <td>4515</td>\n",
       "      <td>180.60</td>\n",
       "      <td>262.584272</td>\n",
       "    </tr>\n",
       "    <tr>\n",
       "      <th>punk</th>\n",
       "      <td>4121</td>\n",
       "      <td>164.84</td>\n",
       "      <td>308.444171</td>\n",
       "    </tr>\n",
       "    <tr>\n",
       "      <th>experimental</th>\n",
       "      <td>3807</td>\n",
       "      <td>152.28</td>\n",
       "      <td>380.362165</td>\n",
       "    </tr>\n",
       "    <tr>\n",
       "      <th>acoustic</th>\n",
       "      <td>2589</td>\n",
       "      <td>103.56</td>\n",
       "      <td>154.515123</td>\n",
       "    </tr>\n",
       "    <tr>\n",
       "      <th>reggae</th>\n",
       "      <td>1749</td>\n",
       "      <td>69.96</td>\n",
       "      <td>79.856893</td>\n",
       "    </tr>\n",
       "  </tbody>\n",
       "</table>\n",
       "</div>"
      ],
      "text/plain": [
       "             supporter count                    \n",
       "                         sum    mean         std\n",
       "genre                                           \n",
       "soundtrack             23396  935.84  788.082307\n",
       "pop                    12903  516.12  689.461585\n",
       "jazz                   12879  515.16  656.107377\n",
       "funk                   12702  508.08  714.832260\n",
       "metal                   9592  383.68  521.129920\n",
       "hip-hop-rap             9454  378.16  628.027446\n",
       "electronic              8489  339.56  550.367156\n",
       "folk                    7274  290.96  465.138195\n",
       "ambient                 6320  252.80  511.303644\n",
       "world                   6168  246.72  325.583133\n",
       "alternative             5665  226.60  264.085371\n",
       "rock                    4768  190.72  405.748436\n",
       "r-b-soul                4515  180.60  262.584272\n",
       "punk                    4121  164.84  308.444171\n",
       "experimental            3807  152.28  380.362165\n",
       "acoustic                2589  103.56  154.515123\n",
       "reggae                  1749   69.96   79.856893"
      ]
     },
     "execution_count": 36,
     "metadata": {},
     "output_type": "execute_result"
    }
   ],
   "source": [
    "(popGenres.groupby(\"genre\").agg({\"supporter count\": [\"sum\",\"mean\",\"std\"]})\n",
    "          .sort_values((\"supporter count\",\"sum\"),ascending=False))"
   ]
  },
  {
   "cell_type": "markdown",
   "metadata": {},
   "source": [
    "# ProfileSpider\n",
    "This `Spider`, once pointed at a user profile, collects some information but is largely used to gathes URLs of the items in that user's collection."
   ]
  },
  {
   "cell_type": "code",
   "execution_count": 38,
   "metadata": {},
   "outputs": [
    {
     "data": {
      "text/html": [
       "\n",
       "        <iframe\n",
       "            width=\"1000\"\n",
       "            height=\"600\"\n",
       "            src=\"https://bandcamp.com/natoryous\"\n",
       "            frameborder=\"0\"\n",
       "            allowfullscreen\n",
       "        ></iframe>\n",
       "        "
      ],
      "text/plain": [
       "<IPython.lib.display.IFrame at 0x7ff7d292cdd8>"
      ]
     },
     "execution_count": 38,
     "metadata": {},
     "output_type": "execute_result"
    }
   ],
   "source": [
    "# We look at the profile of some user with a small collection for speed\n",
    "profileURL = \"https://bandcamp.com/natoryous\"\n",
    "IFrame(src=profileURL,width=1000,height=600)"
   ]
  },
  {
   "cell_type": "code",
   "execution_count": 41,
   "metadata": {
    "scrolled": true
   },
   "outputs": [
    {
     "name": "stdout",
     "output_type": "stream",
     "text": [
      "https://waveshaper1.bandcamp.com/album/artifact\n",
      "https://injekted.bandcamp.com/album/g-e-o-ost\n",
      "https://injekted.bandcamp.com/track/fractal-zooms\n",
      "https://injekted.bandcamp.com/album/compounds-ep\n",
      "https://injekted.bandcamp.com/album/neutron-ep\n",
      "https://injekted.bandcamp.com/album/sweezy-gunner-ost\n",
      "https://jamatar.bandcamp.com/album/journeys\n",
      "https://music.biggiantcircles.com/album/hive-jump\n",
      "https://jamatar.bandcamp.com/album/spacesounds-4\n",
      "https://shirobon.bandcamp.com/album/infinity\n",
      "https://alexanderbrandon.bandcamp.com/album/earthscape\n",
      "https://alexanderbrandon.bandcamp.com/album/just-fun\n",
      "https://erioofficial.bandcamp.com/album/trial-error\n",
      "https://erioofficial.bandcamp.com/album/destruction-liberation-ep\n",
      "https://erioofficial.bandcamp.com/track/luna\n",
      "https://erioofficial.bandcamp.com/track/monolith\n"
     ]
    }
   ],
   "source": [
    "profileDemo = ProfileSpider(profileURL, logfile=\"./demoResources/out/profileLog.txt\")\n",
    "\n",
    "for i in profileDemo.getCollection():\n",
    "    print(i)\n",
    "    \n",
    "profileSeries = profileDemo.asPandasSeries()\n",
    "    \n",
    "del profileDemo"
   ]
  },
  {
   "cell_type": "code",
   "execution_count": 44,
   "metadata": {
    "scrolled": true
   },
   "outputs": [
    {
     "name": "stdout",
     "output_type": "stream",
     "text": [
      "username          Andy\n",
      "collectionSize      16\n",
      "wishlistSize         8\n",
      "followers            0\n",
      "following           10\n",
      "dtype: object\n",
      "https://waveshaper1.bandcamp.com/album/artifact,https://injekted.bandcamp.com/album/g-e-o-ost,https://injekted.bandcamp.com/track/fractal-zooms,https://injekted.bandcamp.com/album/compounds-ep,https://injekted.bandcamp.com/album/neutron-ep,https://injekted.bandcamp.com/album/sweezy-gunner-ost,https://jamatar.bandcamp.com/album/journeys,https://music.biggiantcircles.com/album/hive-jump,https://jamatar.bandcamp.com/album/spacesounds-4,https://shirobon.bandcamp.com/album/infinity,https://alexanderbrandon.bandcamp.com/album/earthscape,https://alexanderbrandon.bandcamp.com/album/just-fun,https://erioofficial.bandcamp.com/album/trial-error,https://erioofficial.bandcamp.com/album/destruction-liberation-ep,https://erioofficial.bandcamp.com/track/luna,https://erioofficial.bandcamp.com/track/monolith\n"
     ]
    }
   ],
   "source": [
    "print(profileSeries.head())\n",
    "print(profileSeries.collection)"
   ]
  },
  {
   "cell_type": "markdown",
   "metadata": {},
   "source": [
    "## Looking at the bias of a music reviewer\n",
    "\n",
    "This is a cursory glance at the collection of a popular metal reviewer combining multiple elements of this library.\n",
    "\n",
    "You can find this profile [here](https://bandcamp.com/angrymetalguy)"
   ]
  },
  {
   "cell_type": "code",
   "execution_count": 45,
   "metadata": {},
   "outputs": [
    {
     "data": {
      "text/html": [
       "\n",
       "        <iframe\n",
       "            width=\"1000\"\n",
       "            height=\"600\"\n",
       "            src=\"http://www.angrymetalguy.com/\"\n",
       "            frameborder=\"0\"\n",
       "            allowfullscreen\n",
       "        ></iframe>\n",
       "        "
      ],
      "text/plain": [
       "<IPython.lib.display.IFrame at 0x7ff7d28fdc18>"
      ]
     },
     "execution_count": 45,
     "metadata": {},
     "output_type": "execute_result"
    }
   ],
   "source": [
    "IFrame(src=\"http://www.angrymetalguy.com/\",width=1000,height=600)"
   ]
  },
  {
   "cell_type": "code",
   "execution_count": 2,
   "metadata": {
    "scrolled": true
   },
   "outputs": [
    {
     "data": {
      "text/plain": [
       "['https://acridnl.bandcamp.com/album/wonderland',\n",
       " 'https://allfather1.bandcamp.com/album/and-all-will-be-desolation',\n",
       " 'https://theaphelionofficial.bandcamp.com/album/the-labour-division',\n",
       " 'https://austinwintory.bandcamp.com/album/the-banner-saga-3',\n",
       " 'https://wilderun.bandcamp.com/album/sleep-at-the-edge-of-the-earth',\n",
       " 'https://trials.bandcamp.com/album/this-ruined-world',\n",
       " 'https://kinggoat.bandcamp.com/album/conduit',\n",
       " 'https://aepochmetal.bandcamp.com/album/awakening-inception',\n",
       " 'https://parius.bandcamp.com/album/the-eldritch-realm',\n",
       " 'https://ledtothegrave.bandcamp.com/album/bane-of-existence',\n",
       " 'https://mysilentwake1.bandcamp.com/album/there-was-death',\n",
       " 'https://adavant.bandcamp.com/album/the-unyielding',\n",
       " 'https://dirtyshirt.bandcamp.com/album/dirtylicious-2015',\n",
       " 'https://helicaseofficial.bandcamp.com/album/the-roots-of-empty-space',\n",
       " 'https://distances.bandcamp.com/album/diableries',\n",
       " 'https://crowblacksky.bandcamp.com/album/sidereal-light-volume-one',\n",
       " 'https://masterbootrecord.bandcamp.com/album/interrupt-request',\n",
       " 'https://austinwintory.bandcamp.com/album/the-banner-saga-2',\n",
       " 'https://belakor.bandcamp.com/album/of-breath-and-bone-vinyl-remaster',\n",
       " 'https://gomorrahofficial.bandcamp.com/album/the-haruspex',\n",
       " 'https://octoberfalls.bandcamp.com/album/kulo',\n",
       " 'https://danimalcannon.bandcamp.com/album/lunaria',\n",
       " 'https://batushka.bandcamp.com/album/litourgiya',\n",
       " 'https://nechochwen.bandcamp.com/album/heart-of-akamon',\n",
       " 'https://trials.bandcamp.com/album/in-the-shadow-of-swords',\n",
       " 'https://store.ffdistantworlds.com/album/distant-worlds-iii-more-music-from-final-fantasy',\n",
       " 'https://shroudofdespondency.bandcamp.com/album/family-tomb',\n",
       " 'https://condormetal.bandcamp.com/album/duin',\n",
       " 'https://exgenesis.bandcamp.com/album/aphotic-veil',\n",
       " 'https://aeternam.bandcamp.com/album/moongod',\n",
       " 'https://darkdescentrecords.bandcamp.com/album/ecdysis',\n",
       " 'https://seasonofmist.bandcamp.com/album/the-lucid-collective',\n",
       " 'https://blood-music.bandcamp.com/album/timelessness',\n",
       " 'https://troldhaugen.bandcamp.com/album/obzkure-anekdotez-for-maniakal-massez',\n",
       " 'https://deadcongregation.bandcamp.com/album/promulgation-of-the-fall',\n",
       " 'https://hannesgrossmann.bandcamp.com/album/the-radial-covenant',\n",
       " 'https://myrkur.bandcamp.com/album/myrkur',\n",
       " 'https://selfmadegod.bandcamp.com/album/trenches-of-the-netherworld',\n",
       " 'https://ffnewworld.bandcamp.com/album/a-new-world-intimate-music-from-final-fantasy',\n",
       " 'https://osmoseproductions.bandcamp.com/album/v-halmstad',\n",
       " 'https://beatentodeath.bandcamp.com/album/d-dsfest',\n",
       " 'https://ulver.bandcamp.com/album/messe-i-x-vi-x',\n",
       " 'https://trials.bandcamp.com/album/witness-to-the-downfall',\n",
       " 'https://octoberfalls.bandcamp.com/album/the-womb-of-primordial-nature',\n",
       " 'https://viennateng.bandcamp.com/album/aims',\n",
       " 'https://cormorant.bandcamp.com/album/earth-diver',\n",
       " 'https://vindicator.bandcamp.com/album/sleeping-with-evil',\n",
       " 'https://trials.bandcamp.com/album/dont-believe-the-word-digital-ep',\n",
       " 'https://austinwintory.bandcamp.com/album/the-banner-saga',\n",
       " 'https://amiensus.bandcamp.com/album/restoration',\n",
       " 'https://sleepersawake.bandcamp.com/album/transcension',\n",
       " 'https://profoundlorerecords.bandcamp.com/album/vhol',\n",
       " 'https://carcass.bandcamp.com/album/heartwork-full-dynamic-range-edition',\n",
       " 'https://octoberfalls.bandcamp.com/album/marras-album',\n",
       " 'https://octoberfalls.bandcamp.com/album/sarastus-mini-album',\n",
       " 'https://wildernessking.bandcamp.com/album/and-the-night-swept-us-away',\n",
       " 'http://store.ffdistantworlds.com/album/distant-worlds-ii-more-music-from-final-fantasy',\n",
       " 'https://unexpect.bandcamp.com/album/fables-of-the-sleepless-empire']"
      ]
     },
     "execution_count": 2,
     "metadata": {},
     "output_type": "execute_result"
    }
   ],
   "source": [
    "amgProfile = ProfileSpider.readSeries(\"./demoResources/amg.csv\")\n",
    "amgProfile.collection.split(\",\")"
   ]
  },
  {
   "cell_type": "code",
   "execution_count": 4,
   "metadata": {},
   "outputs": [
    {
     "data": {
      "text/plain": [
       "0\n",
       "0             acrid\n",
       "1    acrid metal nl\n",
       "2          acrid nl\n",
       "3       death metal\n",
       "4          den haag\n",
       "dtype: object"
      ]
     },
     "execution_count": 4,
     "metadata": {},
     "output_type": "execute_result"
    }
   ],
   "source": [
    "amgTags = AlbumSpider.readSeries(\"./demoResources/amgTags.csv\")\n",
    "amgTags.head()"
   ]
  },
  {
   "cell_type": "code",
   "execution_count": 20,
   "metadata": {},
   "outputs": [],
   "source": [
    "# could use pandas replace method but have had trouble with it in the past\n",
    "def tagMap(i):\n",
    "    temp = re.sub(\"(#)|(metal)|(rock)\",\"\",i)\n",
    "    temp = re.sub(\".*doom.*\",\"doom\",temp)\n",
    "    temp = re.sub(\".*folk.*\",\"folk\",temp)\n",
    "    return temp.strip()"
   ]
  },
  {
   "cell_type": "code",
   "execution_count": 29,
   "metadata": {},
   "outputs": [
    {
     "data": {
      "text/plain": [
       "death          28\n",
       "progressive    24\n",
       "black          19\n",
       "folk           18\n",
       "doom           17\n",
       "thrash         13\n",
       "dtype: int64"
      ]
     },
     "execution_count": 29,
     "metadata": {},
     "output_type": "execute_result"
    }
   ],
   "source": [
    "tags = amgTags.apply(lambda x: tagMap(x))\n",
    "tags[tags != \"\"].value_counts().head(6)"
   ]
  },
  {
   "cell_type": "markdown",
   "metadata": {},
   "source": [
    "# Future Work:\n",
    "\n",
    " * Fix repo to clean up demo files\n",
    " * \"The big scrape\"\n",
    "   + Recovery from failed scrape using error logs\n",
    "   + Class to handle scrape logic such as URL hash map\n",
    "   + Potentially change language of this project\n",
    " * \"from_csv\" method for reinstantiating classes\n",
    " * Handling multiple currency types for price field\n",
    " * Different sales formats\n",
    " * Wishlist scraping\n",
    " * More user details\n",
    " * Chromedriver has a known bug where pages aren't killed\n",
    " * Making sure deconstructor is called properly when exceptions are thrown, particularly DomainError\n",
    " * A new spider for band pages"
   ]
  },
  {
   "cell_type": "code",
   "execution_count": 14,
   "metadata": {},
   "outputs": [
    {
     "data": {
      "text/html": [
       "\n",
       "        <iframe\n",
       "            width=\"1000\"\n",
       "            height=\"600\"\n",
       "            src=\"https://monoofjapan.bandcamp.com/\"\n",
       "            frameborder=\"0\"\n",
       "            allowfullscreen\n",
       "        ></iframe>\n",
       "        "
      ],
      "text/plain": [
       "<IPython.lib.display.IFrame at 0x7fb5727e9048>"
      ]
     },
     "execution_count": 14,
     "metadata": {},
     "output_type": "execute_result"
    }
   ],
   "source": [
    "IFrame(src=\"https://monoofjapan.bandcamp.com/\",width=1000,height=600)"
   ]
  }
 ],
 "metadata": {
  "kernelspec": {
   "display_name": "Python 3",
   "language": "python",
   "name": "python3"
  },
  "language_info": {
   "codemirror_mode": {
    "name": "ipython",
    "version": 3
   },
   "file_extension": ".py",
   "mimetype": "text/x-python",
   "name": "python",
   "nbconvert_exporter": "python",
   "pygments_lexer": "ipython3",
   "version": "3.7.3"
  }
 },
 "nbformat": 4,
 "nbformat_minor": 2
}
