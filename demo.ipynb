{
 "cells": [
  {
   "cell_type": "code",
   "execution_count": 5,
   "metadata": {},
   "outputs": [],
   "source": [
    "from BandcampSpider import AlbumSpider, ProfileSpider, FrontPageSpider\n",
    "from IPython.display import IFrame"
   ]
  },
  {
   "cell_type": "code",
   "execution_count": 9,
   "metadata": {
    "scrolled": true
   },
   "outputs": [
    {
     "data": {
      "text/html": [
       "\n",
       "        <iframe\n",
       "            width=\"1000\"\n",
       "            height=\"600\"\n",
       "            src=\"https://blood-music.bandcamp.com/album/air\"\n",
       "            frameborder=\"0\"\n",
       "            allowfullscreen\n",
       "        ></iframe>\n",
       "        "
      ],
      "text/plain": [
       "<IPython.lib.display.IFrame at 0x7fb572af6b00>"
      ]
     },
     "execution_count": 9,
     "metadata": {},
     "output_type": "execute_result"
    }
   ],
   "source": [
    "air_URL = \"https://blood-music.bandcamp.com/album/air\"\n",
    "IFrame(src=air_URL,width=1000,height=600)"
   ]
  },
  {
   "cell_type": "code",
   "execution_count": 12,
   "metadata": {
    "scrolled": true
   },
   "outputs": [],
   "source": [
    "air = AlbumSpider(air_URL)\n",
    "airDetails = air.getAlbumDetails()\n",
    "_ = air.getReviews()\n",
    "_ = air.getSupporters()"
   ]
  },
  {
   "cell_type": "code",
   "execution_count": 13,
   "metadata": {},
   "outputs": [
    {
     "name": "stdout",
     "output_type": "stream",
     "text": [
      "albumTitle : Air\n",
      "bandName : Astronoid\n",
      "label : Blood Music\n",
      "price : name your price\n",
      "tags : ['metal', 'alcest', 'avant garde', 'black metal', 'blackgaze', 'blood music', 'deafheaven', 'death metal', 'devin townsend', 'dream thrash', 'dreamwave', 'experimental', 'metalgaze', 'mew', 'shoegaze', 'Finland']\n",
      "songs : [{'track': 1, 'title': 'Incandescent', 'duration': 311.0}, {'track': 2, 'title': 'Up and Atom', 'duration': 377.0}, {'track': 3, 'title': 'Resin', 'duration': 390.0}, {'track': 4, 'title': 'Violence', 'duration': 141.0}, {'track': 5, 'title': 'Homesick', 'duration': 287.0}, {'track': 6, 'title': 'Tin Foil Hats', 'duration': 309.0}, {'track': 7, 'title': 'Air', 'duration': 369.0}, {'track': 8, 'title': 'Obsolete', 'duration': 371.0}, {'track': 9, 'title': 'Trail of Sulfur', 'duration': 446.0}]\n",
      "totalDuration : 3001.0\n",
      "releaseDate : 20160610\n"
     ]
    }
   ],
   "source": [
    "for i, j in air.getAsDict().items():\n",
    "    print(f'{i} : {j}')"
   ]
  },
  {
   "cell_type": "code",
   "execution_count": null,
   "metadata": {},
   "outputs": [],
   "source": []
  },
  {
   "cell_type": "code",
   "execution_count": null,
   "metadata": {},
   "outputs": [],
   "source": [
    "del air"
   ]
  },
  {
   "cell_type": "code",
   "execution_count": 10,
   "metadata": {},
   "outputs": [
    {
     "name": "stdout",
     "output_type": "stream",
     "text": [
      "https://unreqvited.bandcamp.com/album/mosaic-i-lamour-et-lardeur\n",
      "https://mewithoutyou.bandcamp.com/album/untitled\n",
      "https://avastband.bandcamp.com/album/mother-culture\n",
      "https://psycroptic.bandcamp.com/album/as-the-kingdom-drowns\n",
      "https://theocean.bandcamp.com/album/phanerozoic-i-palaeozoic-2\n",
      "https://cloudsofficial.bandcamp.com/album/dor-2\n",
      "https://non-serviam-records.bandcamp.com/album/emptiness-fills-the-void\n",
      "https://antlers-vanrecords.bandcamp.com/album/beneath-below-behold\n",
      "https://thou.bandcamp.com/album/magus-2\n",
      "https://rebelwizard.bandcamp.com/album/voluptuous-worship-of-rapture-and-response\n",
      "https://souldissolution.bandcamp.com/album/nowhere\n",
      "https://blood-music.bandcamp.com/album/virus-dos\n",
      "https://abysmaltorment.bandcamp.com/album/the-misanthrope\n",
      "https://thelionsdaughter.bandcamp.com/album/future-cult\n",
      "https://music.throatruinerrecords.com/album/only-love\n",
      "https://morphinist.bandcamp.com/album/sunwalker\n",
      "https://a-forest-of-stars.bandcamp.com/album/grave-mounds-and-grave-mistakes\n",
      "https://uniqueleaderrecords.bandcamp.com/album/molten-giant\n",
      "https://holyfawn.bandcamp.com/album/death-spells\n",
      "https://bodhimusicofficial.bandcamp.com/album/simple-pleasures\n",
      "https://ghostbound.bandcamp.com/album/all-is-phantom\n",
      "https://uhtcearu.bandcamp.com/album/for-darkness-to-subside\n",
      "https://morrowofficial.bandcamp.com/album/the-weight-of-these-feathers\n",
      "https://scientistchicago.bandcamp.com/album/barbelith\n",
      "https://khorada.bandcamp.com/album/salt-luxus\n",
      "https://skeletonwitch.bandcamp.com/album/devouring-radiant-light\n",
      "https://gaerea.bandcamp.com/album/unsettling-whispers-black-metal\n",
      "https://deafheavens.bandcamp.com/album/ordinary-corrupt-human-love\n",
      "https://wiltmanitoba.bandcamp.com/album/ruin\n",
      "https://wiltmanitoba.bandcamp.com/album/wilt\n",
      "https://wiltmanitoba.bandcamp.com/album/moving-monoliths\n",
      "https://firtan.bandcamp.com/album/okeanos\n",
      "https://thebeastofnod.bandcamp.com/album/vampira-disciple-of-chaos\n",
      "https://shylmagoghnar.bandcamp.com/album/transience\n",
      "https://glassing.bandcamp.com/album/light-and-death\n",
      "https://nightverses.bandcamp.com/album/from-the-gallery-of-sleep\n",
      "https://maskofjudas.bandcamp.com/album/the-mesmerist\n",
      "https://thebirthdaymassacre.bandcamp.com/album/under-your-spell\n",
      "https://oubliette.bandcamp.com/album/the-passage\n",
      "https://mordantrapture.bandcamp.com/album/the-abnegation\n",
      "https://asgnation.bandcamp.com/album/survive-sunrise\n",
      "https://widekmusic.bandcamp.com/album/dream-reflection\n",
      "https://listen.20buckspin.com/album/desolation\n",
      "https://respirefamily.bandcamp.com/album/d-nouement\n",
      "https://spectralwound.bandcamp.com/album/infernal-decadence\n",
      "https://spurv.bandcamp.com/album/myra\n",
      "https://apocrophex.bandcamp.com/album/ternalis\n",
      "https://obligod.bandcamp.com/album/degressive-fusion\n",
      "https://violetcold.bandcamp.com/album/sommermorgen-pt-i-innocence\n",
      "https://thehirscheffekt.bandcamp.com/album/eskapist\n",
      "https://naturmachtproductions.bandcamp.com/album/die-grubenm-hre\n",
      "https://gregoriofranco.bandcamp.com/album/quantum-memories\n",
      "https://templeoftorturous.bandcamp.com/album/happiness-brought-by-endless-sorrow\n",
      "https://secondtosun.bandcamp.com/album/the-black\n",
      "https://bosskeloid.bandcamp.com/album/melted-on-the-inch\n",
      "https://garganjua.bandcamp.com/album/through-the-void\n",
      "https://alkaloidsom.bandcamp.com/album/liquid-anatomy\n",
      "https://atmfsssdtp.bandcamp.com/album/my-endless-immensity\n",
      "https://deafheavens.bandcamp.com/album/sunbather\n",
      "https://xanthochroid.bandcamp.com/album/of-erthe-and-axen-act-ii-2017\n",
      "https://pestproductions.bandcamp.com/album/goat\n",
      "https://creatorlightthiscity.bandcamp.com/album/terminal-bloom\n",
      "https://anatheme.bandcamp.com/album/f-jon\n",
      "http://godisanastronaut.com/album/epitaph\n",
      "https://arkonamoscow.bandcamp.com/album/khram\n",
      "https://pestilenceofficial.bandcamp.com/album/hadeon\n",
      "https://dawnrayd.bandcamp.com/album/the-unlawful-assembly\n",
      "https://rebelwizard.bandcamp.com/album/great-addictions-to-blindingly-dark-worldly-life\n",
      "https://dreamtroll.bandcamp.com/album/the-witchs-curse\n",
      "https://osmoseproductions.bandcamp.com/album/solitude\n",
      "https://churchdoom.bandcamp.com/album/light-will-consume-us-all\n",
      "https://theisolationprocess.bandcamp.com/album/twelve\n",
      "https://grimoirerecords.bandcamp.com/album/swallow-matewan\n",
      "https://naturmachtproductions.bandcamp.com/album/smell-of-burning-wood\n",
      "https://i-voidhangerrecords.bandcamp.com/album/hierurgy\n",
      "https://silenceliesfear.bandcamp.com/album/shadows-of-the-wasteland\n",
      "https://fractalgates.bandcamp.com/album/the-light-that-shines\n",
      "https://veldes.bandcamp.com/album/storm-borrower\n",
      "https://obscura.bandcamp.com/album/akr-asis\n",
      "https://obscura.bandcamp.com/album/omnivium-deluxe-edition\n",
      "https://obscura.bandcamp.com/album/cosmogenesis\n",
      "https://obscura.bandcamp.com/album/retribution-reissue\n",
      "https://obscura.bandcamp.com/album/diluvium\n",
      "https://asunojokei.bandcamp.com/album/awakening\n",
      "https://moeldk.bandcamp.com/album/jord-2\n",
      "https://virginbabylonrecords.bandcamp.com/album/last-waltz\n",
      "https://naturmachtproductions.bandcamp.com/album/each-failing-step\n",
      "https://inferi.bandcamp.com/album/revenant\n",
      "https://kinggoat.bandcamp.com/album/debt-of-aeons\n",
      "https://unreqvited.bandcamp.com/album/stars-wept-to-the-sea\n",
      "https://mesarthim.bandcamp.com/album/the-density-parameter\n",
      "https://ulvesang.bandcamp.com/album/the-hunt\n",
      "https://hinayana.bandcamp.com/album/order-divine-2\n",
      "https://rurdomain.bandcamp.com/album/r-r\n",
      "https://aesthesys.bandcamp.com/album/achromata\n",
      "https://towardsatlantislights.bandcamp.com/album/dust-of-aeons-atmospheric-death-doom-metal\n",
      "https://naturmachtproductions.bandcamp.com/album/falling-moon\n",
      "https://naturmachtproductions.bandcamp.com/album/into-the-unknown\n",
      "https://naturmachtproductions.bandcamp.com/album/kelle-surut-soi\n",
      "http://kubbimusic.com/album/taiga\n",
      "https://distances.bandcamp.com/album/diableries\n",
      "https://soldesangre.bandcamp.com/album/sol-de-sangre\n",
      "https://dirtyshirt.bandcamp.com/album/folkcore-detour\n",
      "https://angstnoise.bandcamp.com/album/ghosts-of-the-timeless-void\n",
      "https://sojournermetal.bandcamp.com/album/the-shadowed-road\n",
      "https://kosmogyr.bandcamp.com/album/eviternity-digital-version\n",
      "https://trnaband.bandcamp.com/album/earthcult\n",
      "https://maladieband.bandcamp.com/album/of-harm-and-salvation\n",
      "http://listen.20buckspin.com/album/the-incubus-of-karma\n",
      "https://rolotomassi.bandcamp.com/album/time-will-die-and-love-will-bury-it\n",
      "https://conjureruk.bandcamp.com/album/mire-2\n",
      "https://manmountain.bandcamp.com/album/infinity-mirror\n",
      "https://riversofnihil.bandcamp.com/album/where-owls-know-my-name\n",
      "https://slugdge.bandcamp.com/album/esoteric-malacology\n",
      "https://agoniarecords.bandcamp.com/album/interregnum\n",
      "https://novareign.bandcamp.com/album/legends\n",
      "https://exeyeband.bandcamp.com/album/ex-eye\n",
      "https://kaoteon.bandcamp.com/album/damnatio-memoriae\n",
      "https://deathwhite.bandcamp.com/album/for-a-black-tomorrow\n",
      "https://vukovtotem.bandcamp.com/album/zov-iz-magle\n",
      "https://ovum.bandcamp.com/album/in-my-sanctuary\n",
      "https://pestproductions.bandcamp.com/album/celestial-descension\n",
      "https://theatlasmoth.bandcamp.com/album/coma-noir-2\n",
      "https://artofpropaganda.bandcamp.com/album/arson\n",
      "https://gileadmedia.bandcamp.com/album/self-annihilating-consciousness\n",
      "https://arallu.bandcamp.com/album/six-folk-black-thrash-metal\n",
      "https://karybdis.bandcamp.com/album/samsara\n",
      "https://redefiningdarknessrecords.bandcamp.com/album/schattenfall-schatten-in-schwarz\n",
      "https://invainofnorway.bandcamp.com/album/currents\n",
      "https://goodtigerofficial.bandcamp.com/album/we-will-all-be-gone\n",
      "https://lotusthief.bandcamp.com/album/gramarye\n",
      "http://listen.20buckspin.com/album/aria-of-vernal-tombs-2\n",
      "https://blameua.bandcamp.com/album/almanac\n",
      "https://grimoirerecords.bandcamp.com/album/regressionism\n",
      "https://angstnoise.bandcamp.com/album/furnace\n",
      "https://inquinamentum.bandcamp.com/album/8342\n",
      "https://lascar.bandcamp.com/album/cryptospores\n",
      "https://cage-of-creation.bandcamp.com/album/i-am-the-void\n",
      "https://agoniarecords.bandcamp.com/album/ildlaante\n",
      "https://agoniarecords.bandcamp.com/album/v-the-inside-scriptures\n",
      "https://agoniarecords.bandcamp.com/album/conscious-darkness\n",
      "https://songs-of-arrakis.bandcamp.com/album/asheran\n",
      "https://thenegativebias.bandcamp.com/album/lamentation-of-the-chaos-omega\n",
      "https://pestproductions.bandcamp.com/album/inori\n",
      "https://byzantine.bandcamp.com/album/the-cicada-tree\n",
      "https://i-voidhangerrecords.bandcamp.com/album/watershed-between-firmament-and-the-realm-of-hyperborea\n",
      "https://wormed.bandcamp.com/album/krighsu\n",
      "https://convergecult.bandcamp.com/album/the-dusk-in-us\n",
      "https://redefiningdarknessrecords.bandcamp.com/album/khandra-all-is-of-no-avail\n",
      "https://morvigor.bandcamp.com/album/tyrant\n",
      "https://neobliviscarissom.bandcamp.com/album/urn\n",
      "https://sorcererdoom.bandcamp.com/album/the-crowning-of-the-fire-king\n",
      "https://yelloweyes.bandcamp.com/album/immersion-trench-reverie\n",
      "https://bellwitch.bandcamp.com/album/mirror-reaper\n",
      "https://amenra.bandcamp.com/album/mass-vi\n",
      "https://theblackdahliamurder.bandcamp.com/album/nightbringers\n"
     ]
    }
   ],
   "source": [
    "profileTest = ProfileSpider(\"https://bandcamp.com/AJB0211\")\n",
    "\n",
    "for i in profileTest.getCollection():\n",
    "    print(i)\n",
    "    \n",
    "del profileTest"
   ]
  },
  {
   "cell_type": "code",
   "execution_count": 1,
   "metadata": {},
   "outputs": [],
   "source": [
    "import pandas as pd\n",
    "import numpy as np"
   ]
  },
  {
   "cell_type": "code",
   "execution_count": 3,
   "metadata": {},
   "outputs": [],
   "source": [
    "test_dict = {'a':{'b':[1,2,3]}}"
   ]
  },
  {
   "cell_type": "code",
   "execution_count": 6,
   "metadata": {},
   "outputs": [],
   "source": [
    "def arrayGen(d):\n",
    "    for genre, cat_dict in d.items():\n",
    "        for category, url_list in cat_dict.items():\n",
    "            for i in url_list:\n",
    "                yield [genre,category,i]"
   ]
  },
  {
   "cell_type": "code",
   "execution_count": 7,
   "metadata": {
    "scrolled": true
   },
   "outputs": [
    {
     "name": "stdout",
     "output_type": "stream",
     "text": [
      "['a', 'b', 1]\n",
      "['a', 'b', 2]\n",
      "['a', 'b', 3]\n"
     ]
    }
   ],
   "source": [
    "for i in arrayGen(test_dict):\n",
    "    print(i)"
   ]
  },
  {
   "cell_type": "code",
   "execution_count": 10,
   "metadata": {
    "scrolled": true
   },
   "outputs": [
    {
     "data": {
      "text/plain": [
       "array([['a', 'b', '1'],\n",
       "       ['a', 'b', '2'],\n",
       "       ['a', 'b', '3']], dtype='<U1')"
      ]
     },
     "execution_count": 10,
     "metadata": {},
     "output_type": "execute_result"
    }
   ],
   "source": [
    "np.array(list(arrayGen(test_dict)))"
   ]
  },
  {
   "cell_type": "markdown",
   "metadata": {},
   "source": [
    "# Future Work:\n",
    "\n",
    " * \"The big scrape\"\n",
    "   + Recovery from failed scrape using error logs\n",
    "   + Class to handle scrape logic such as URL hash map\n",
    "   + Potentially change language of this project\n",
    " * \"from_csv\" method for reinstantiating classes\n",
    " * Handling multiple currency types for price field\n",
    " * Different sales formats\n",
    " * \n",
    " * A new spider for band pages"
   ]
  },
  {
   "cell_type": "code",
   "execution_count": 14,
   "metadata": {},
   "outputs": [
    {
     "data": {
      "text/html": [
       "\n",
       "        <iframe\n",
       "            width=\"1000\"\n",
       "            height=\"600\"\n",
       "            src=\"https://monoofjapan.bandcamp.com/\"\n",
       "            frameborder=\"0\"\n",
       "            allowfullscreen\n",
       "        ></iframe>\n",
       "        "
      ],
      "text/plain": [
       "<IPython.lib.display.IFrame at 0x7fb5727e9048>"
      ]
     },
     "execution_count": 14,
     "metadata": {},
     "output_type": "execute_result"
    }
   ],
   "source": [
    "IFrame(src=\"https://monoofjapan.bandcamp.com/\",width=1000,height=600)"
   ]
  }
 ],
 "metadata": {
  "kernelspec": {
   "display_name": "Python 3",
   "language": "python",
   "name": "python3"
  },
  "language_info": {
   "codemirror_mode": {
    "name": "ipython",
    "version": 3
   },
   "file_extension": ".py",
   "mimetype": "text/x-python",
   "name": "python",
   "nbconvert_exporter": "python",
   "pygments_lexer": "ipython3",
   "version": "3.7.3"
  }
 },
 "nbformat": 4,
 "nbformat_minor": 2
}
